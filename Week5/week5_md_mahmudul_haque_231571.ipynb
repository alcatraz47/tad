{
 "cells": [
  {
   "cell_type": "markdown",
   "metadata": {},
   "source": [
    "Natural Language Processing.\n",
    "Md. Mahmudul Haque.\n",
    "Matriculation No.: 231571.\n",
    "Week: 5."
   ]
  },
  {
   "cell_type": "code",
   "execution_count": 1,
   "metadata": {},
   "outputs": [],
   "source": [
    "# !pip install pandas\n",
    "# !pip install nltk"
   ]
  },
  {
   "cell_type": "code",
   "execution_count": 2,
   "metadata": {},
   "outputs": [],
   "source": [
    "import os\n",
    "import re\n",
    "import numpy as np\n",
    "import pandas as pd\n",
    "from nltk.corpus import stopwords"
   ]
  },
  {
   "cell_type": "markdown",
   "metadata": {},
   "source": [
    "Task 1"
   ]
  },
  {
   "cell_type": "code",
   "execution_count": 3,
   "metadata": {},
   "outputs": [
    {
     "data": {
      "text/html": [
       "<div>\n",
       "<style scoped>\n",
       "    .dataframe tbody tr th:only-of-type {\n",
       "        vertical-align: middle;\n",
       "    }\n",
       "\n",
       "    .dataframe tbody tr th {\n",
       "        vertical-align: top;\n",
       "    }\n",
       "\n",
       "    .dataframe thead th {\n",
       "        text-align: right;\n",
       "    }\n",
       "</style>\n",
       "<table border=\"1\" class=\"dataframe\">\n",
       "  <thead>\n",
       "    <tr style=\"text-align: right;\">\n",
       "      <th></th>\n",
       "      <th>created</th>\n",
       "      <th>title</th>\n",
       "      <th>selftext</th>\n",
       "    </tr>\n",
       "  </thead>\n",
       "  <tbody>\n",
       "    <tr>\n",
       "      <th>0</th>\n",
       "      <td>1640995385</td>\n",
       "      <td>Anyone use a roundup app to invest spare change?</td>\n",
       "      <td>[removed]</td>\n",
       "    </tr>\n",
       "    <tr>\n",
       "      <th>1</th>\n",
       "      <td>1640995487</td>\n",
       "      <td>Maybe I am more pessimistic, so I withdrew Bit...</td>\n",
       "      <td>[removed]</td>\n",
       "    </tr>\n",
       "    <tr>\n",
       "      <th>2</th>\n",
       "      <td>1640995629</td>\n",
       "      <td>Can not withdraw</td>\n",
       "      <td>[removed]</td>\n",
       "    </tr>\n",
       "    <tr>\n",
       "      <th>3</th>\n",
       "      <td>1640996258</td>\n",
       "      <td>When sovereign wealth funds?</td>\n",
       "      <td>Anyone heard any news about this? Any opinions...</td>\n",
       "    </tr>\n",
       "    <tr>\n",
       "      <th>4</th>\n",
       "      <td>1640996745</td>\n",
       "      <td>Big Money Lost in a Hard Drive</td>\n",
       "      <td>[removed]</td>\n",
       "    </tr>\n",
       "  </tbody>\n",
       "</table>\n",
       "</div>"
      ],
      "text/plain": [
       "      created                                              title  \\\n",
       "0  1640995385   Anyone use a roundup app to invest spare change?   \n",
       "1  1640995487  Maybe I am more pessimistic, so I withdrew Bit...   \n",
       "2  1640995629                                   Can not withdraw   \n",
       "3  1640996258                       When sovereign wealth funds?   \n",
       "4  1640996745                     Big Money Lost in a Hard Drive   \n",
       "\n",
       "                                            selftext  \n",
       "0                                          [removed]  \n",
       "1                                          [removed]  \n",
       "2                                          [removed]  \n",
       "3  Anyone heard any news about this? Any opinions...  \n",
       "4                                          [removed]  "
      ]
     },
     "execution_count": 3,
     "metadata": {},
     "output_type": "execute_result"
    }
   ],
   "source": [
    "bitcoin_df = pd.read_csv(\"bitcoin.csv\", usecols=[\"created\", \"title\", \"selftext\"])\n",
    "bitcoin_df.head()"
   ]
  },
  {
   "cell_type": "code",
   "execution_count": 4,
   "metadata": {},
   "outputs": [
    {
     "data": {
      "text/plain": [
       "created     66576\n",
       "title       66567\n",
       "selftext    37918\n",
       "dtype: int64"
      ]
     },
     "execution_count": 4,
     "metadata": {},
     "output_type": "execute_result"
    }
   ],
   "source": [
    "bitcoin_df.count()"
   ]
  },
  {
   "cell_type": "code",
   "execution_count": 5,
   "metadata": {},
   "outputs": [],
   "source": [
    "# dropping empty rows where value of \"selftext\" is none\n",
    "bitcoin_df.dropna(subset=[\"selftext\"], inplace=True)"
   ]
  },
  {
   "cell_type": "code",
   "execution_count": 6,
   "metadata": {},
   "outputs": [
    {
     "data": {
      "text/plain": [
       "created     37918\n",
       "title       37918\n",
       "selftext    37918\n",
       "dtype: int64"
      ]
     },
     "execution_count": 6,
     "metadata": {},
     "output_type": "execute_result"
    }
   ],
   "source": [
    "# resetting the index from 0 to len(dataframe)\n",
    "bitcoin_df = bitcoin_df.reset_index(drop=True)\n",
    "bitcoin_df.count()"
   ]
  },
  {
   "cell_type": "code",
   "execution_count": 7,
   "metadata": {},
   "outputs": [
    {
     "data": {
      "text/html": [
       "<div>\n",
       "<style scoped>\n",
       "    .dataframe tbody tr th:only-of-type {\n",
       "        vertical-align: middle;\n",
       "    }\n",
       "\n",
       "    .dataframe tbody tr th {\n",
       "        vertical-align: top;\n",
       "    }\n",
       "\n",
       "    .dataframe thead th {\n",
       "        text-align: right;\n",
       "    }\n",
       "</style>\n",
       "<table border=\"1\" class=\"dataframe\">\n",
       "  <thead>\n",
       "    <tr style=\"text-align: right;\">\n",
       "      <th></th>\n",
       "      <th>created</th>\n",
       "      <th>title</th>\n",
       "      <th>selftext</th>\n",
       "    </tr>\n",
       "  </thead>\n",
       "  <tbody>\n",
       "    <tr>\n",
       "      <th>3</th>\n",
       "      <td>1640996258</td>\n",
       "      <td>When sovereign wealth funds?</td>\n",
       "      <td>Anyone heard any news about this? Any opinions...</td>\n",
       "    </tr>\n",
       "    <tr>\n",
       "      <th>5</th>\n",
       "      <td>1640998555</td>\n",
       "      <td>You have already won.</td>\n",
       "      <td>I only have .03 btc but I still feel early as ...</td>\n",
       "    </tr>\n",
       "    <tr>\n",
       "      <th>6</th>\n",
       "      <td>1640999166</td>\n",
       "      <td>Good Android Wallet for BTC</td>\n",
       "      <td>Okay,\\n\\nSo I want to move away from Exodus an...</td>\n",
       "    </tr>\n",
       "    <tr>\n",
       "      <th>8</th>\n",
       "      <td>1641000037</td>\n",
       "      <td>George Athanassakos (Seat tight and HODL)</td>\n",
       "      <td>https://www.ivey.uwo.ca/faculty/directory/geor...</td>\n",
       "    </tr>\n",
       "    <tr>\n",
       "      <th>13</th>\n",
       "      <td>1641000896</td>\n",
       "      <td>Happy New Year wishes Ferdinand, the first HOD...</td>\n",
       "      <td>[deleted]</td>\n",
       "    </tr>\n",
       "  </tbody>\n",
       "</table>\n",
       "</div>"
      ],
      "text/plain": [
       "       created                                              title  \\\n",
       "3   1640996258                       When sovereign wealth funds?   \n",
       "5   1640998555                              You have already won.   \n",
       "6   1640999166                        Good Android Wallet for BTC   \n",
       "8   1641000037          George Athanassakos (Seat tight and HODL)   \n",
       "13  1641000896  Happy New Year wishes Ferdinand, the first HOD...   \n",
       "\n",
       "                                             selftext  \n",
       "3   Anyone heard any news about this? Any opinions...  \n",
       "5   I only have .03 btc but I still feel early as ...  \n",
       "6   Okay,\\n\\nSo I want to move away from Exodus an...  \n",
       "8   https://www.ivey.uwo.ca/faculty/directory/geor...  \n",
       "13                                          [deleted]  "
      ]
     },
     "execution_count": 7,
     "metadata": {},
     "output_type": "execute_result"
    }
   ],
   "source": [
    "# removing the rows with \"[removed]\" value in \"selftext\" column\n",
    "bitcoin_df = bitcoin_df[bitcoin_df[\"selftext\"] != \"[removed]\"]\n",
    "bitcoin_df.head()"
   ]
  },
  {
   "cell_type": "code",
   "execution_count": 8,
   "metadata": {},
   "outputs": [
    {
     "data": {
      "text/plain": [
       "created     21659\n",
       "title       21659\n",
       "selftext    21659\n",
       "dtype: int64"
      ]
     },
     "execution_count": 8,
     "metadata": {},
     "output_type": "execute_result"
    }
   ],
   "source": [
    "bitcoin_df.count()"
   ]
  },
  {
   "cell_type": "code",
   "execution_count": 9,
   "metadata": {},
   "outputs": [
    {
     "data": {
      "text/plain": [
       "0"
      ]
     },
     "execution_count": 9,
     "metadata": {},
     "output_type": "execute_result"
    }
   ],
   "source": [
    "bitcoin_df[\"selftext\"].isna().sum()"
   ]
  },
  {
   "cell_type": "code",
   "execution_count": 10,
   "metadata": {},
   "outputs": [
    {
     "data": {
      "text/html": [
       "<div>\n",
       "<style scoped>\n",
       "    .dataframe tbody tr th:only-of-type {\n",
       "        vertical-align: middle;\n",
       "    }\n",
       "\n",
       "    .dataframe tbody tr th {\n",
       "        vertical-align: top;\n",
       "    }\n",
       "\n",
       "    .dataframe thead th {\n",
       "        text-align: right;\n",
       "    }\n",
       "</style>\n",
       "<table border=\"1\" class=\"dataframe\">\n",
       "  <thead>\n",
       "    <tr style=\"text-align: right;\">\n",
       "      <th></th>\n",
       "      <th>created</th>\n",
       "      <th>title</th>\n",
       "      <th>selftext</th>\n",
       "    </tr>\n",
       "  </thead>\n",
       "  <tbody>\n",
       "    <tr>\n",
       "      <th>3</th>\n",
       "      <td>1640996258</td>\n",
       "      <td>When sovereign wealth funds?</td>\n",
       "      <td>Anyone heard any news about this? Any opinions...</td>\n",
       "    </tr>\n",
       "    <tr>\n",
       "      <th>5</th>\n",
       "      <td>1640998555</td>\n",
       "      <td>You have already won.</td>\n",
       "      <td>I only have .03 btc but I still feel early as ...</td>\n",
       "    </tr>\n",
       "    <tr>\n",
       "      <th>6</th>\n",
       "      <td>1640999166</td>\n",
       "      <td>Good Android Wallet for BTC</td>\n",
       "      <td>Okay,\\n\\nSo I want to move away from Exodus an...</td>\n",
       "    </tr>\n",
       "    <tr>\n",
       "      <th>8</th>\n",
       "      <td>1641000037</td>\n",
       "      <td>George Athanassakos (Seat tight and HODL)</td>\n",
       "      <td>https://www.ivey.uwo.ca/faculty/directory/geor...</td>\n",
       "    </tr>\n",
       "    <tr>\n",
       "      <th>18</th>\n",
       "      <td>1641006460</td>\n",
       "      <td>Factored in satoshi Nakamoto’s bitcoins into t...</td>\n",
       "      <td>Just a genuine question, I’ve googled biggest ...</td>\n",
       "    </tr>\n",
       "  </tbody>\n",
       "</table>\n",
       "</div>"
      ],
      "text/plain": [
       "       created                                              title  \\\n",
       "3   1640996258                       When sovereign wealth funds?   \n",
       "5   1640998555                              You have already won.   \n",
       "6   1640999166                        Good Android Wallet for BTC   \n",
       "8   1641000037          George Athanassakos (Seat tight and HODL)   \n",
       "18  1641006460  Factored in satoshi Nakamoto’s bitcoins into t...   \n",
       "\n",
       "                                             selftext  \n",
       "3   Anyone heard any news about this? Any opinions...  \n",
       "5   I only have .03 btc but I still feel early as ...  \n",
       "6   Okay,\\n\\nSo I want to move away from Exodus an...  \n",
       "8   https://www.ivey.uwo.ca/faculty/directory/geor...  \n",
       "18  Just a genuine question, I’ve googled biggest ...  "
      ]
     },
     "execution_count": 10,
     "metadata": {},
     "output_type": "execute_result"
    }
   ],
   "source": [
    "# removing the rows with \"[deleted]\" value in \"selftext\" column\n",
    "bitcoin_df = bitcoin_df[bitcoin_df[\"selftext\"] != \"[deleted]\"]\n",
    "bitcoin_df.head()"
   ]
  },
  {
   "cell_type": "code",
   "execution_count": 11,
   "metadata": {},
   "outputs": [],
   "source": [
    "bitcoin_df = bitcoin_df.reset_index(drop=True)"
   ]
  },
  {
   "cell_type": "code",
   "execution_count": 12,
   "metadata": {},
   "outputs": [
    {
     "data": {
      "text/plain": [
       "0     Anyone heard any news about this? Any opinions...\n",
       "1     I only have .03 btc but I still feel early as ...\n",
       "2     Okay,\\n\\nSo I want to move away from Exodus an...\n",
       "3     https://www.ivey.uwo.ca/faculty/directory/geor...\n",
       "4     Just a genuine question, I’ve googled biggest ...\n",
       "                            ...                        \n",
       "95    At some point “only invest what you can afford...\n",
       "96    Is it recommended to store Bitcoin on a drive ...\n",
       "97    Looking for Platforms suggestions and withdraw...\n",
       "98    Hey! I don't think it's illegal for minors to ...\n",
       "99    Since there are no chargebacks, if I buy an it...\n",
       "Name: selftext, Length: 100, dtype: object"
      ]
     },
     "execution_count": 12,
     "metadata": {},
     "output_type": "execute_result"
    }
   ],
   "source": [
    "bitcoin_df[\"selftext\"][0:100]"
   ]
  },
  {
   "cell_type": "code",
   "execution_count": 13,
   "metadata": {},
   "outputs": [
    {
     "data": {
      "text/html": [
       "<div>\n",
       "<style scoped>\n",
       "    .dataframe tbody tr th:only-of-type {\n",
       "        vertical-align: middle;\n",
       "    }\n",
       "\n",
       "    .dataframe tbody tr th {\n",
       "        vertical-align: top;\n",
       "    }\n",
       "\n",
       "    .dataframe thead th {\n",
       "        text-align: right;\n",
       "    }\n",
       "</style>\n",
       "<table border=\"1\" class=\"dataframe\">\n",
       "  <thead>\n",
       "    <tr style=\"text-align: right;\">\n",
       "      <th></th>\n",
       "      <th>created</th>\n",
       "      <th>title</th>\n",
       "      <th>selftext</th>\n",
       "    </tr>\n",
       "  </thead>\n",
       "  <tbody>\n",
       "    <tr>\n",
       "      <th>0</th>\n",
       "      <td>1640996258</td>\n",
       "      <td>When sovereign wealth funds?</td>\n",
       "      <td>Anyone heard any news about this? Any opinions...</td>\n",
       "    </tr>\n",
       "    <tr>\n",
       "      <th>1</th>\n",
       "      <td>1640998555</td>\n",
       "      <td>You have already won.</td>\n",
       "      <td>I only have .03 btc but I still feel early as ...</td>\n",
       "    </tr>\n",
       "    <tr>\n",
       "      <th>2</th>\n",
       "      <td>1640999166</td>\n",
       "      <td>Good Android Wallet for BTC</td>\n",
       "      <td>Okay,\\n\\nSo I want to move away from Exodus an...</td>\n",
       "    </tr>\n",
       "    <tr>\n",
       "      <th>3</th>\n",
       "      <td>1641000037</td>\n",
       "      <td>George Athanassakos (Seat tight and HODL)</td>\n",
       "      <td>https://www.ivey.uwo.ca/faculty/directory/geor...</td>\n",
       "    </tr>\n",
       "    <tr>\n",
       "      <th>4</th>\n",
       "      <td>1641006460</td>\n",
       "      <td>Factored in satoshi Nakamoto’s bitcoins into t...</td>\n",
       "      <td>Just a genuine question, I’ve googled biggest ...</td>\n",
       "    </tr>\n",
       "  </tbody>\n",
       "</table>\n",
       "</div>"
      ],
      "text/plain": [
       "      created                                              title  \\\n",
       "0  1640996258                       When sovereign wealth funds?   \n",
       "1  1640998555                              You have already won.   \n",
       "2  1640999166                        Good Android Wallet for BTC   \n",
       "3  1641000037          George Athanassakos (Seat tight and HODL)   \n",
       "4  1641006460  Factored in satoshi Nakamoto’s bitcoins into t...   \n",
       "\n",
       "                                            selftext  \n",
       "0  Anyone heard any news about this? Any opinions...  \n",
       "1  I only have .03 btc but I still feel early as ...  \n",
       "2  Okay,\\n\\nSo I want to move away from Exodus an...  \n",
       "3  https://www.ivey.uwo.ca/faculty/directory/geor...  \n",
       "4  Just a genuine question, I’ve googled biggest ...  "
      ]
     },
     "execution_count": 13,
     "metadata": {},
     "output_type": "execute_result"
    }
   ],
   "source": [
    "bitcoin_df.head()"
   ]
  },
  {
   "cell_type": "code",
   "execution_count": 14,
   "metadata": {},
   "outputs": [],
   "source": [
    "# merging the two columns \"title\" and \"selftext\" by typecasting in string and \n",
    "# then into another new column \"title_selftext\" appending the column at \n",
    "# the end of the dataframe by default\n",
    "bitcoin_df[\"title_selftext\"] = bitcoin_df[\"title\"].astype(\"str\") + bitcoin_df[\"selftext\"].astype(\"str\")"
   ]
  },
  {
   "cell_type": "code",
   "execution_count": 15,
   "metadata": {},
   "outputs": [
    {
     "data": {
      "text/html": [
       "<div>\n",
       "<style scoped>\n",
       "    .dataframe tbody tr th:only-of-type {\n",
       "        vertical-align: middle;\n",
       "    }\n",
       "\n",
       "    .dataframe tbody tr th {\n",
       "        vertical-align: top;\n",
       "    }\n",
       "\n",
       "    .dataframe thead th {\n",
       "        text-align: right;\n",
       "    }\n",
       "</style>\n",
       "<table border=\"1\" class=\"dataframe\">\n",
       "  <thead>\n",
       "    <tr style=\"text-align: right;\">\n",
       "      <th></th>\n",
       "      <th>created</th>\n",
       "      <th>title</th>\n",
       "      <th>selftext</th>\n",
       "      <th>title_selftext</th>\n",
       "    </tr>\n",
       "  </thead>\n",
       "  <tbody>\n",
       "    <tr>\n",
       "      <th>0</th>\n",
       "      <td>1640996258</td>\n",
       "      <td>When sovereign wealth funds?</td>\n",
       "      <td>Anyone heard any news about this? Any opinions...</td>\n",
       "      <td>When sovereign wealth funds?Anyone heard any n...</td>\n",
       "    </tr>\n",
       "    <tr>\n",
       "      <th>1</th>\n",
       "      <td>1640998555</td>\n",
       "      <td>You have already won.</td>\n",
       "      <td>I only have .03 btc but I still feel early as ...</td>\n",
       "      <td>You have already won.I only have .03 btc but I...</td>\n",
       "    </tr>\n",
       "    <tr>\n",
       "      <th>2</th>\n",
       "      <td>1640999166</td>\n",
       "      <td>Good Android Wallet for BTC</td>\n",
       "      <td>Okay,\\n\\nSo I want to move away from Exodus an...</td>\n",
       "      <td>Good Android Wallet for BTCOkay,\\n\\nSo I want ...</td>\n",
       "    </tr>\n",
       "    <tr>\n",
       "      <th>3</th>\n",
       "      <td>1641000037</td>\n",
       "      <td>George Athanassakos (Seat tight and HODL)</td>\n",
       "      <td>https://www.ivey.uwo.ca/faculty/directory/geor...</td>\n",
       "      <td>George Athanassakos (Seat tight and HODL)https...</td>\n",
       "    </tr>\n",
       "    <tr>\n",
       "      <th>4</th>\n",
       "      <td>1641006460</td>\n",
       "      <td>Factored in satoshi Nakamoto’s bitcoins into t...</td>\n",
       "      <td>Just a genuine question, I’ve googled biggest ...</td>\n",
       "      <td>Factored in satoshi Nakamoto’s bitcoins into t...</td>\n",
       "    </tr>\n",
       "  </tbody>\n",
       "</table>\n",
       "</div>"
      ],
      "text/plain": [
       "      created                                              title  \\\n",
       "0  1640996258                       When sovereign wealth funds?   \n",
       "1  1640998555                              You have already won.   \n",
       "2  1640999166                        Good Android Wallet for BTC   \n",
       "3  1641000037          George Athanassakos (Seat tight and HODL)   \n",
       "4  1641006460  Factored in satoshi Nakamoto’s bitcoins into t...   \n",
       "\n",
       "                                            selftext  \\\n",
       "0  Anyone heard any news about this? Any opinions...   \n",
       "1  I only have .03 btc but I still feel early as ...   \n",
       "2  Okay,\\n\\nSo I want to move away from Exodus an...   \n",
       "3  https://www.ivey.uwo.ca/faculty/directory/geor...   \n",
       "4  Just a genuine question, I’ve googled biggest ...   \n",
       "\n",
       "                                      title_selftext  \n",
       "0  When sovereign wealth funds?Anyone heard any n...  \n",
       "1  You have already won.I only have .03 btc but I...  \n",
       "2  Good Android Wallet for BTCOkay,\\n\\nSo I want ...  \n",
       "3  George Athanassakos (Seat tight and HODL)https...  \n",
       "4  Factored in satoshi Nakamoto’s bitcoins into t...  "
      ]
     },
     "execution_count": 15,
     "metadata": {},
     "output_type": "execute_result"
    }
   ],
   "source": [
    "bitcoin_df.head()"
   ]
  },
  {
   "cell_type": "code",
   "execution_count": 16,
   "metadata": {},
   "outputs": [],
   "source": [
    "bitcoin_df.drop(columns=[\"title\", \"selftext\"], inplace=True)"
   ]
  },
  {
   "cell_type": "code",
   "execution_count": 17,
   "metadata": {},
   "outputs": [
    {
     "data": {
      "text/html": [
       "<div>\n",
       "<style scoped>\n",
       "    .dataframe tbody tr th:only-of-type {\n",
       "        vertical-align: middle;\n",
       "    }\n",
       "\n",
       "    .dataframe tbody tr th {\n",
       "        vertical-align: top;\n",
       "    }\n",
       "\n",
       "    .dataframe thead th {\n",
       "        text-align: right;\n",
       "    }\n",
       "</style>\n",
       "<table border=\"1\" class=\"dataframe\">\n",
       "  <thead>\n",
       "    <tr style=\"text-align: right;\">\n",
       "      <th></th>\n",
       "      <th>created</th>\n",
       "      <th>title_selftext</th>\n",
       "    </tr>\n",
       "  </thead>\n",
       "  <tbody>\n",
       "    <tr>\n",
       "      <th>0</th>\n",
       "      <td>1640996258</td>\n",
       "      <td>When sovereign wealth funds?Anyone heard any n...</td>\n",
       "    </tr>\n",
       "    <tr>\n",
       "      <th>1</th>\n",
       "      <td>1640998555</td>\n",
       "      <td>You have already won.I only have .03 btc but I...</td>\n",
       "    </tr>\n",
       "    <tr>\n",
       "      <th>2</th>\n",
       "      <td>1640999166</td>\n",
       "      <td>Good Android Wallet for BTCOkay,\\n\\nSo I want ...</td>\n",
       "    </tr>\n",
       "    <tr>\n",
       "      <th>3</th>\n",
       "      <td>1641000037</td>\n",
       "      <td>George Athanassakos (Seat tight and HODL)https...</td>\n",
       "    </tr>\n",
       "    <tr>\n",
       "      <th>4</th>\n",
       "      <td>1641006460</td>\n",
       "      <td>Factored in satoshi Nakamoto’s bitcoins into t...</td>\n",
       "    </tr>\n",
       "  </tbody>\n",
       "</table>\n",
       "</div>"
      ],
      "text/plain": [
       "      created                                     title_selftext\n",
       "0  1640996258  When sovereign wealth funds?Anyone heard any n...\n",
       "1  1640998555  You have already won.I only have .03 btc but I...\n",
       "2  1640999166  Good Android Wallet for BTCOkay,\\n\\nSo I want ...\n",
       "3  1641000037  George Athanassakos (Seat tight and HODL)https...\n",
       "4  1641006460  Factored in satoshi Nakamoto’s bitcoins into t..."
      ]
     },
     "execution_count": 17,
     "metadata": {},
     "output_type": "execute_result"
    }
   ],
   "source": [
    "bitcoin_df.head()"
   ]
  },
  {
   "cell_type": "code",
   "execution_count": 18,
   "metadata": {},
   "outputs": [],
   "source": [
    "bitcoin_df.reset_index(inplace=True)"
   ]
  },
  {
   "cell_type": "code",
   "execution_count": 19,
   "metadata": {},
   "outputs": [
    {
     "data": {
      "text/html": [
       "<div>\n",
       "<style scoped>\n",
       "    .dataframe tbody tr th:only-of-type {\n",
       "        vertical-align: middle;\n",
       "    }\n",
       "\n",
       "    .dataframe tbody tr th {\n",
       "        vertical-align: top;\n",
       "    }\n",
       "\n",
       "    .dataframe thead th {\n",
       "        text-align: right;\n",
       "    }\n",
       "</style>\n",
       "<table border=\"1\" class=\"dataframe\">\n",
       "  <thead>\n",
       "    <tr style=\"text-align: right;\">\n",
       "      <th></th>\n",
       "      <th>index</th>\n",
       "      <th>created</th>\n",
       "      <th>title_selftext</th>\n",
       "    </tr>\n",
       "  </thead>\n",
       "  <tbody>\n",
       "    <tr>\n",
       "      <th>0</th>\n",
       "      <td>0</td>\n",
       "      <td>1640996258</td>\n",
       "      <td>When sovereign wealth funds?Anyone heard any n...</td>\n",
       "    </tr>\n",
       "    <tr>\n",
       "      <th>1</th>\n",
       "      <td>1</td>\n",
       "      <td>1640998555</td>\n",
       "      <td>You have already won.I only have .03 btc but I...</td>\n",
       "    </tr>\n",
       "    <tr>\n",
       "      <th>2</th>\n",
       "      <td>2</td>\n",
       "      <td>1640999166</td>\n",
       "      <td>Good Android Wallet for BTCOkay,\\n\\nSo I want ...</td>\n",
       "    </tr>\n",
       "    <tr>\n",
       "      <th>3</th>\n",
       "      <td>3</td>\n",
       "      <td>1641000037</td>\n",
       "      <td>George Athanassakos (Seat tight and HODL)https...</td>\n",
       "    </tr>\n",
       "    <tr>\n",
       "      <th>4</th>\n",
       "      <td>4</td>\n",
       "      <td>1641006460</td>\n",
       "      <td>Factored in satoshi Nakamoto’s bitcoins into t...</td>\n",
       "    </tr>\n",
       "  </tbody>\n",
       "</table>\n",
       "</div>"
      ],
      "text/plain": [
       "   index     created                                     title_selftext\n",
       "0      0  1640996258  When sovereign wealth funds?Anyone heard any n...\n",
       "1      1  1640998555  You have already won.I only have .03 btc but I...\n",
       "2      2  1640999166  Good Android Wallet for BTCOkay,\\n\\nSo I want ...\n",
       "3      3  1641000037  George Athanassakos (Seat tight and HODL)https...\n",
       "4      4  1641006460  Factored in satoshi Nakamoto’s bitcoins into t..."
      ]
     },
     "execution_count": 19,
     "metadata": {},
     "output_type": "execute_result"
    }
   ],
   "source": [
    "bitcoin_df.head()"
   ]
  },
  {
   "cell_type": "markdown",
   "metadata": {},
   "source": [
    "Task 2"
   ]
  },
  {
   "cell_type": "code",
   "execution_count": 20,
   "metadata": {},
   "outputs": [],
   "source": [
    "copy_df = bitcoin_df.copy().drop(columns=\"index\")"
   ]
  },
  {
   "cell_type": "code",
   "execution_count": 21,
   "metadata": {},
   "outputs": [
    {
     "data": {
      "text/html": [
       "<div>\n",
       "<style scoped>\n",
       "    .dataframe tbody tr th:only-of-type {\n",
       "        vertical-align: middle;\n",
       "    }\n",
       "\n",
       "    .dataframe tbody tr th {\n",
       "        vertical-align: top;\n",
       "    }\n",
       "\n",
       "    .dataframe thead th {\n",
       "        text-align: right;\n",
       "    }\n",
       "</style>\n",
       "<table border=\"1\" class=\"dataframe\">\n",
       "  <thead>\n",
       "    <tr style=\"text-align: right;\">\n",
       "      <th></th>\n",
       "      <th>created</th>\n",
       "      <th>title_selftext</th>\n",
       "    </tr>\n",
       "  </thead>\n",
       "  <tbody>\n",
       "    <tr>\n",
       "      <th>0</th>\n",
       "      <td>1640996258</td>\n",
       "      <td>When sovereign wealth funds?Anyone heard any n...</td>\n",
       "    </tr>\n",
       "    <tr>\n",
       "      <th>1</th>\n",
       "      <td>1640998555</td>\n",
       "      <td>You have already won.I only have .03 btc but I...</td>\n",
       "    </tr>\n",
       "    <tr>\n",
       "      <th>2</th>\n",
       "      <td>1640999166</td>\n",
       "      <td>Good Android Wallet for BTCOkay,\\n\\nSo I want ...</td>\n",
       "    </tr>\n",
       "    <tr>\n",
       "      <th>3</th>\n",
       "      <td>1641000037</td>\n",
       "      <td>George Athanassakos (Seat tight and HODL)https...</td>\n",
       "    </tr>\n",
       "    <tr>\n",
       "      <th>4</th>\n",
       "      <td>1641006460</td>\n",
       "      <td>Factored in satoshi Nakamoto’s bitcoins into t...</td>\n",
       "    </tr>\n",
       "  </tbody>\n",
       "</table>\n",
       "</div>"
      ],
      "text/plain": [
       "      created                                     title_selftext\n",
       "0  1640996258  When sovereign wealth funds?Anyone heard any n...\n",
       "1  1640998555  You have already won.I only have .03 btc but I...\n",
       "2  1640999166  Good Android Wallet for BTCOkay,\\n\\nSo I want ...\n",
       "3  1641000037  George Athanassakos (Seat tight and HODL)https...\n",
       "4  1641006460  Factored in satoshi Nakamoto’s bitcoins into t..."
      ]
     },
     "execution_count": 21,
     "metadata": {},
     "output_type": "execute_result"
    }
   ],
   "source": [
    "copy_df.head()"
   ]
  },
  {
   "cell_type": "code",
   "execution_count": 22,
   "metadata": {},
   "outputs": [],
   "source": [
    "# Applying on basic preprocessing:\n",
    "# 1. cleaning: extracting alphabets and \n",
    "# splitting into word list for each row;\n",
    "# 2. to lowercase; 3. removing stopwords\n",
    "def clean_text(sentence: str) -> list:\n",
    "    \"\"\"cleaning text by extracting alphabets and\n",
    "    then splitting into word list for each sentence\n",
    "\n",
    "    Args:\n",
    "        sentence (str): sentence string\n",
    "\n",
    "    Returns:\n",
    "        list: list of words.\n",
    "    \"\"\"\n",
    "    pattern = re.compile(r\"[A-Za-z]+\")\n",
    "    return re.findall(pattern=pattern, string=sentence)\n",
    "\n",
    "def to_lowercase(word_list: list) -> list:\n",
    "    \"\"\"case changing of all contents in each list\n",
    "    of words\n",
    "\n",
    "    Args:\n",
    "        word_list (list): list of words with alphabets only texts\n",
    "\n",
    "    Returns:\n",
    "        word_list (list): list of words with lowercase transformation\n",
    "    \"\"\"\n",
    "    for i, word in enumerate(word_list):\n",
    "        word_list[i] = word.lower()\n",
    "    return word_list\n",
    "\n",
    "def remove_stopwords(list_of_words: list) -> list:\n",
    "    \"\"\"removing stop words from list of words by matching\n",
    "    English stop words and extracting those out \n",
    "    \n",
    "    Args:\n",
    "        list_of_words (list): list of words with stop words\n",
    "\n",
    "    Returns:\n",
    "        list: stop word free list of words\n",
    "    \"\"\"\n",
    "    stopword_list = stopwords.words(\"english\")\n",
    "\n",
    "    return [word for word in list_of_words if word not in stopword_list]"
   ]
  },
  {
   "cell_type": "code",
   "execution_count": 23,
   "metadata": {},
   "outputs": [],
   "source": [
    "copy_df[\"clean_text\"] = copy_df[\"title_selftext\"].apply(lambda text: clean_text(text))\n",
    "copy_df[\"clean_text\"] = copy_df[\"clean_text\"].apply(lambda word_list: to_lowercase(word_list))\n",
    "copy_df[\"clean_text\"] = copy_df[\"clean_text\"].apply(lambda word_list: remove_stopwords(word_list))"
   ]
  },
  {
   "cell_type": "code",
   "execution_count": 24,
   "metadata": {},
   "outputs": [
    {
     "data": {
      "text/html": [
       "<div>\n",
       "<style scoped>\n",
       "    .dataframe tbody tr th:only-of-type {\n",
       "        vertical-align: middle;\n",
       "    }\n",
       "\n",
       "    .dataframe tbody tr th {\n",
       "        vertical-align: top;\n",
       "    }\n",
       "\n",
       "    .dataframe thead th {\n",
       "        text-align: right;\n",
       "    }\n",
       "</style>\n",
       "<table border=\"1\" class=\"dataframe\">\n",
       "  <thead>\n",
       "    <tr style=\"text-align: right;\">\n",
       "      <th></th>\n",
       "      <th>created</th>\n",
       "      <th>title_selftext</th>\n",
       "      <th>clean_text</th>\n",
       "    </tr>\n",
       "  </thead>\n",
       "  <tbody>\n",
       "    <tr>\n",
       "      <th>0</th>\n",
       "      <td>1640996258</td>\n",
       "      <td>When sovereign wealth funds?Anyone heard any n...</td>\n",
       "      <td>[sovereign, wealth, funds, anyone, heard, news...</td>\n",
       "    </tr>\n",
       "    <tr>\n",
       "      <th>1</th>\n",
       "      <td>1640998555</td>\n",
       "      <td>You have already won.I only have .03 btc but I...</td>\n",
       "      <td>[already, btc, still, feel, early, one, family...</td>\n",
       "    </tr>\n",
       "    <tr>\n",
       "      <th>2</th>\n",
       "      <td>1640999166</td>\n",
       "      <td>Good Android Wallet for BTCOkay,\\n\\nSo I want ...</td>\n",
       "      <td>[good, android, wallet, btcokay, want, move, a...</td>\n",
       "    </tr>\n",
       "    <tr>\n",
       "      <th>3</th>\n",
       "      <td>1641000037</td>\n",
       "      <td>George Athanassakos (Seat tight and HODL)https...</td>\n",
       "      <td>[george, athanassakos, seat, tight, hodl, http...</td>\n",
       "    </tr>\n",
       "    <tr>\n",
       "      <th>4</th>\n",
       "      <td>1641006460</td>\n",
       "      <td>Factored in satoshi Nakamoto’s bitcoins into t...</td>\n",
       "      <td>[factored, satoshi, nakamoto, bitcoins, price,...</td>\n",
       "    </tr>\n",
       "  </tbody>\n",
       "</table>\n",
       "</div>"
      ],
      "text/plain": [
       "      created                                     title_selftext  \\\n",
       "0  1640996258  When sovereign wealth funds?Anyone heard any n...   \n",
       "1  1640998555  You have already won.I only have .03 btc but I...   \n",
       "2  1640999166  Good Android Wallet for BTCOkay,\\n\\nSo I want ...   \n",
       "3  1641000037  George Athanassakos (Seat tight and HODL)https...   \n",
       "4  1641006460  Factored in satoshi Nakamoto’s bitcoins into t...   \n",
       "\n",
       "                                          clean_text  \n",
       "0  [sovereign, wealth, funds, anyone, heard, news...  \n",
       "1  [already, btc, still, feel, early, one, family...  \n",
       "2  [good, android, wallet, btcokay, want, move, a...  \n",
       "3  [george, athanassakos, seat, tight, hodl, http...  \n",
       "4  [factored, satoshi, nakamoto, bitcoins, price,...  "
      ]
     },
     "execution_count": 24,
     "metadata": {},
     "output_type": "execute_result"
    }
   ],
   "source": [
    "copy_df.head()"
   ]
  },
  {
   "cell_type": "code",
   "execution_count": 25,
   "metadata": {},
   "outputs": [],
   "source": [
    "bitcoin_df = copy_df.copy()"
   ]
  },
  {
   "cell_type": "markdown",
   "metadata": {},
   "source": [
    "Task 3"
   ]
  },
  {
   "cell_type": "code",
   "execution_count": 26,
   "metadata": {},
   "outputs": [
    {
     "data": {
      "text/html": [
       "<div>\n",
       "<style scoped>\n",
       "    .dataframe tbody tr th:only-of-type {\n",
       "        vertical-align: middle;\n",
       "    }\n",
       "\n",
       "    .dataframe tbody tr th {\n",
       "        vertical-align: top;\n",
       "    }\n",
       "\n",
       "    .dataframe thead th {\n",
       "        text-align: right;\n",
       "    }\n",
       "</style>\n",
       "<table border=\"1\" class=\"dataframe\">\n",
       "  <thead>\n",
       "    <tr style=\"text-align: right;\">\n",
       "      <th></th>\n",
       "      <th>term</th>\n",
       "      <th>sentiment</th>\n",
       "    </tr>\n",
       "  </thead>\n",
       "  <tbody>\n",
       "    <tr>\n",
       "      <th>0</th>\n",
       "      <td>a</td>\n",
       "      <td>0.0</td>\n",
       "    </tr>\n",
       "    <tr>\n",
       "      <th>1</th>\n",
       "      <td>a.d.</td>\n",
       "      <td>0.0</td>\n",
       "    </tr>\n",
       "    <tr>\n",
       "      <th>2</th>\n",
       "      <td>a.k.a.</td>\n",
       "      <td>0.0</td>\n",
       "    </tr>\n",
       "    <tr>\n",
       "      <th>3</th>\n",
       "      <td>a.m.</td>\n",
       "      <td>0.0</td>\n",
       "    </tr>\n",
       "    <tr>\n",
       "      <th>4</th>\n",
       "      <td>aardvark</td>\n",
       "      <td>0.0</td>\n",
       "    </tr>\n",
       "  </tbody>\n",
       "</table>\n",
       "</div>"
      ],
      "text/plain": [
       "       term  sentiment\n",
       "0         a        0.0\n",
       "1      a.d.        0.0\n",
       "2    a.k.a.        0.0\n",
       "3      a.m.        0.0\n",
       "4  aardvark        0.0"
      ]
     },
     "execution_count": 26,
     "metadata": {},
     "output_type": "execute_result"
    }
   ],
   "source": [
    "ground_truth_df = pd.read_csv(\"dictionary.csv\", dtype={\"term\": \"string\", \"sentiment\": \"float64\"})\n",
    "ground_truth_df.head()"
   ]
  },
  {
   "cell_type": "code",
   "execution_count": 27,
   "metadata": {},
   "outputs": [],
   "source": [
    "def calculate_sentiment(list_of_words: list) -> np.float64:\n",
    "    \"\"\"calculating sentiment\n",
    "    \n",
    "    calculation of sentiment by using the given dictionary\n",
    "    value in 'dictionary.csv' file and if terms matches\n",
    "    then the true indices get summed up by sentiment column\n",
    "    score.\n",
    "\n",
    "    Args:\n",
    "        list_of_words (list): list of words\n",
    "\n",
    "    Returns:\n",
    "        np.float64: total sentiment score of each sentence\n",
    "    \"\"\"\n",
    "\n",
    "    mask = ground_truth_df[\"term\"].isin(list_of_words)\n",
    "    return ground_truth_df.iloc[ground_truth_df.index[mask]][\"sentiment\"].sum()"
   ]
  },
  {
   "cell_type": "code",
   "execution_count": 28,
   "metadata": {},
   "outputs": [],
   "source": [
    "copy_df[\"sentiment_score\"] = copy_df[\"clean_text\"].apply(lambda word_list: calculate_sentiment(word_list))"
   ]
  },
  {
   "cell_type": "code",
   "execution_count": 29,
   "metadata": {},
   "outputs": [
    {
     "data": {
      "text/html": [
       "<div>\n",
       "<style scoped>\n",
       "    .dataframe tbody tr th:only-of-type {\n",
       "        vertical-align: middle;\n",
       "    }\n",
       "\n",
       "    .dataframe tbody tr th {\n",
       "        vertical-align: top;\n",
       "    }\n",
       "\n",
       "    .dataframe thead th {\n",
       "        text-align: right;\n",
       "    }\n",
       "</style>\n",
       "<table border=\"1\" class=\"dataframe\">\n",
       "  <thead>\n",
       "    <tr style=\"text-align: right;\">\n",
       "      <th></th>\n",
       "      <th>created</th>\n",
       "      <th>title_selftext</th>\n",
       "      <th>clean_text</th>\n",
       "      <th>sentiment_score</th>\n",
       "    </tr>\n",
       "  </thead>\n",
       "  <tbody>\n",
       "    <tr>\n",
       "      <th>0</th>\n",
       "      <td>1640996258</td>\n",
       "      <td>When sovereign wealth funds?Anyone heard any n...</td>\n",
       "      <td>[sovereign, wealth, funds, anyone, heard, news...</td>\n",
       "      <td>4.0</td>\n",
       "    </tr>\n",
       "    <tr>\n",
       "      <th>1</th>\n",
       "      <td>1640998555</td>\n",
       "      <td>You have already won.I only have .03 btc but I...</td>\n",
       "      <td>[already, btc, still, feel, early, one, family...</td>\n",
       "      <td>3.0</td>\n",
       "    </tr>\n",
       "    <tr>\n",
       "      <th>2</th>\n",
       "      <td>1640999166</td>\n",
       "      <td>Good Android Wallet for BTCOkay,\\n\\nSo I want ...</td>\n",
       "      <td>[good, android, wallet, btcokay, want, move, a...</td>\n",
       "      <td>11.0</td>\n",
       "    </tr>\n",
       "    <tr>\n",
       "      <th>3</th>\n",
       "      <td>1641000037</td>\n",
       "      <td>George Athanassakos (Seat tight and HODL)https...</td>\n",
       "      <td>[george, athanassakos, seat, tight, hodl, http...</td>\n",
       "      <td>2.0</td>\n",
       "    </tr>\n",
       "    <tr>\n",
       "      <th>4</th>\n",
       "      <td>1641006460</td>\n",
       "      <td>Factored in satoshi Nakamoto’s bitcoins into t...</td>\n",
       "      <td>[factored, satoshi, nakamoto, bitcoins, price,...</td>\n",
       "      <td>1.0</td>\n",
       "    </tr>\n",
       "  </tbody>\n",
       "</table>\n",
       "</div>"
      ],
      "text/plain": [
       "      created                                     title_selftext  \\\n",
       "0  1640996258  When sovereign wealth funds?Anyone heard any n...   \n",
       "1  1640998555  You have already won.I only have .03 btc but I...   \n",
       "2  1640999166  Good Android Wallet for BTCOkay,\\n\\nSo I want ...   \n",
       "3  1641000037  George Athanassakos (Seat tight and HODL)https...   \n",
       "4  1641006460  Factored in satoshi Nakamoto’s bitcoins into t...   \n",
       "\n",
       "                                          clean_text  sentiment_score  \n",
       "0  [sovereign, wealth, funds, anyone, heard, news...              4.0  \n",
       "1  [already, btc, still, feel, early, one, family...              3.0  \n",
       "2  [good, android, wallet, btcokay, want, move, a...             11.0  \n",
       "3  [george, athanassakos, seat, tight, hodl, http...              2.0  \n",
       "4  [factored, satoshi, nakamoto, bitcoins, price,...              1.0  "
      ]
     },
     "execution_count": 29,
     "metadata": {},
     "output_type": "execute_result"
    }
   ],
   "source": [
    "copy_df.head()"
   ]
  },
  {
   "cell_type": "code",
   "execution_count": 30,
   "metadata": {},
   "outputs": [],
   "source": [
    "bitcoin_df = copy_df.copy()"
   ]
  },
  {
   "cell_type": "markdown",
   "metadata": {},
   "source": [
    "Task 4"
   ]
  },
  {
   "cell_type": "code",
   "execution_count": 31,
   "metadata": {},
   "outputs": [],
   "source": [
    "copy_df = bitcoin_df.copy()"
   ]
  },
  {
   "cell_type": "code",
   "execution_count": 32,
   "metadata": {},
   "outputs": [],
   "source": [
    "prices_df = pd.read_csv(\n",
    "    \"bitcoin_prices.csv\",\n",
    "    dtype={\"difference\": np.float64},\n",
    "    parse_dates=True\n",
    ")"
   ]
  },
  {
   "cell_type": "code",
   "execution_count": 33,
   "metadata": {},
   "outputs": [
    {
     "data": {
      "text/html": [
       "<div>\n",
       "<style scoped>\n",
       "    .dataframe tbody tr th:only-of-type {\n",
       "        vertical-align: middle;\n",
       "    }\n",
       "\n",
       "    .dataframe tbody tr th {\n",
       "        vertical-align: top;\n",
       "    }\n",
       "\n",
       "    .dataframe thead th {\n",
       "        text-align: right;\n",
       "    }\n",
       "</style>\n",
       "<table border=\"1\" class=\"dataframe\">\n",
       "  <thead>\n",
       "    <tr style=\"text-align: right;\">\n",
       "      <th></th>\n",
       "      <th>timestamp</th>\n",
       "      <th>difference</th>\n",
       "    </tr>\n",
       "  </thead>\n",
       "  <tbody>\n",
       "    <tr>\n",
       "      <th>0</th>\n",
       "      <td>2022-01-01</td>\n",
       "      <td>-842.52</td>\n",
       "    </tr>\n",
       "    <tr>\n",
       "      <th>1</th>\n",
       "      <td>2022-01-02</td>\n",
       "      <td>1490.70</td>\n",
       "    </tr>\n",
       "    <tr>\n",
       "      <th>2</th>\n",
       "      <td>2022-01-03</td>\n",
       "      <td>-495.08</td>\n",
       "    </tr>\n",
       "    <tr>\n",
       "      <th>3</th>\n",
       "      <td>2022-01-04</td>\n",
       "      <td>-734.92</td>\n",
       "    </tr>\n",
       "    <tr>\n",
       "      <th>4</th>\n",
       "      <td>2022-01-05</td>\n",
       "      <td>-610.64</td>\n",
       "    </tr>\n",
       "  </tbody>\n",
       "</table>\n",
       "</div>"
      ],
      "text/plain": [
       "    timestamp  difference\n",
       "0  2022-01-01     -842.52\n",
       "1  2022-01-02     1490.70\n",
       "2  2022-01-03     -495.08\n",
       "3  2022-01-04     -734.92\n",
       "4  2022-01-05     -610.64"
      ]
     },
     "execution_count": 33,
     "metadata": {},
     "output_type": "execute_result"
    }
   ],
   "source": [
    "prices_df.head()"
   ]
  },
  {
   "cell_type": "code",
   "execution_count": 34,
   "metadata": {},
   "outputs": [],
   "source": [
    "#unix time to yyy-mm-dd format\n",
    "copy_df[\"created\"] = pd.to_datetime(copy_df[\"created\"], unit=\"s\").dt.date"
   ]
  },
  {
   "cell_type": "code",
   "execution_count": 35,
   "metadata": {},
   "outputs": [
    {
     "data": {
      "text/html": [
       "<div>\n",
       "<style scoped>\n",
       "    .dataframe tbody tr th:only-of-type {\n",
       "        vertical-align: middle;\n",
       "    }\n",
       "\n",
       "    .dataframe tbody tr th {\n",
       "        vertical-align: top;\n",
       "    }\n",
       "\n",
       "    .dataframe thead th {\n",
       "        text-align: right;\n",
       "    }\n",
       "</style>\n",
       "<table border=\"1\" class=\"dataframe\">\n",
       "  <thead>\n",
       "    <tr style=\"text-align: right;\">\n",
       "      <th></th>\n",
       "      <th>created</th>\n",
       "      <th>title_selftext</th>\n",
       "      <th>clean_text</th>\n",
       "      <th>sentiment_score</th>\n",
       "    </tr>\n",
       "  </thead>\n",
       "  <tbody>\n",
       "    <tr>\n",
       "      <th>0</th>\n",
       "      <td>2022-01-01</td>\n",
       "      <td>When sovereign wealth funds?Anyone heard any n...</td>\n",
       "      <td>[sovereign, wealth, funds, anyone, heard, news...</td>\n",
       "      <td>4.0</td>\n",
       "    </tr>\n",
       "    <tr>\n",
       "      <th>1</th>\n",
       "      <td>2022-01-01</td>\n",
       "      <td>You have already won.I only have .03 btc but I...</td>\n",
       "      <td>[already, btc, still, feel, early, one, family...</td>\n",
       "      <td>3.0</td>\n",
       "    </tr>\n",
       "    <tr>\n",
       "      <th>2</th>\n",
       "      <td>2022-01-01</td>\n",
       "      <td>Good Android Wallet for BTCOkay,\\n\\nSo I want ...</td>\n",
       "      <td>[good, android, wallet, btcokay, want, move, a...</td>\n",
       "      <td>11.0</td>\n",
       "    </tr>\n",
       "    <tr>\n",
       "      <th>3</th>\n",
       "      <td>2022-01-01</td>\n",
       "      <td>George Athanassakos (Seat tight and HODL)https...</td>\n",
       "      <td>[george, athanassakos, seat, tight, hodl, http...</td>\n",
       "      <td>2.0</td>\n",
       "    </tr>\n",
       "    <tr>\n",
       "      <th>4</th>\n",
       "      <td>2022-01-01</td>\n",
       "      <td>Factored in satoshi Nakamoto’s bitcoins into t...</td>\n",
       "      <td>[factored, satoshi, nakamoto, bitcoins, price,...</td>\n",
       "      <td>1.0</td>\n",
       "    </tr>\n",
       "  </tbody>\n",
       "</table>\n",
       "</div>"
      ],
      "text/plain": [
       "      created                                     title_selftext  \\\n",
       "0  2022-01-01  When sovereign wealth funds?Anyone heard any n...   \n",
       "1  2022-01-01  You have already won.I only have .03 btc but I...   \n",
       "2  2022-01-01  Good Android Wallet for BTCOkay,\\n\\nSo I want ...   \n",
       "3  2022-01-01  George Athanassakos (Seat tight and HODL)https...   \n",
       "4  2022-01-01  Factored in satoshi Nakamoto’s bitcoins into t...   \n",
       "\n",
       "                                          clean_text  sentiment_score  \n",
       "0  [sovereign, wealth, funds, anyone, heard, news...              4.0  \n",
       "1  [already, btc, still, feel, early, one, family...              3.0  \n",
       "2  [good, android, wallet, btcokay, want, move, a...             11.0  \n",
       "3  [george, athanassakos, seat, tight, hodl, http...              2.0  \n",
       "4  [factored, satoshi, nakamoto, bitcoins, price,...              1.0  "
      ]
     },
     "execution_count": 35,
     "metadata": {},
     "output_type": "execute_result"
    }
   ],
   "source": [
    "copy_df.head()"
   ]
  },
  {
   "cell_type": "code",
   "execution_count": 36,
   "metadata": {},
   "outputs": [],
   "source": [
    "temp_df = copy_df[[\"created\", \"sentiment_score\"]].copy()"
   ]
  },
  {
   "cell_type": "code",
   "execution_count": 37,
   "metadata": {},
   "outputs": [
    {
     "data": {
      "text/plain": [
       "(365, 2)"
      ]
     },
     "execution_count": 37,
     "metadata": {},
     "output_type": "execute_result"
    }
   ],
   "source": [
    "prices_df.shape"
   ]
  },
  {
   "cell_type": "code",
   "execution_count": 38,
   "metadata": {},
   "outputs": [
    {
     "data": {
      "text/plain": [
       "(16169, 2)"
      ]
     },
     "execution_count": 38,
     "metadata": {},
     "output_type": "execute_result"
    }
   ],
   "source": [
    "temp_df.shape"
   ]
  },
  {
   "cell_type": "code",
   "execution_count": 39,
   "metadata": {},
   "outputs": [
    {
     "data": {
      "text/plain": [
       "0    2022-01-01\n",
       "1    2022-01-01\n",
       "2    2022-01-01\n",
       "3    2022-01-01\n",
       "4    2022-01-01\n",
       "5    2022-01-01\n",
       "6    2022-01-01\n",
       "7    2022-01-01\n",
       "8    2022-01-01\n",
       "9    2022-01-01\n",
       "Name: created, dtype: object"
      ]
     },
     "execution_count": 39,
     "metadata": {},
     "output_type": "execute_result"
    }
   ],
   "source": [
    "temp_df[\"created\"][0:10]"
   ]
  },
  {
   "cell_type": "code",
   "execution_count": 40,
   "metadata": {},
   "outputs": [
    {
     "data": {
      "text/plain": [
       "0    2022-01-01\n",
       "1    2022-01-02\n",
       "2    2022-01-03\n",
       "3    2022-01-04\n",
       "4    2022-01-05\n",
       "5    2022-01-06\n",
       "6    2022-01-07\n",
       "7    2022-01-08\n",
       "8    2022-01-09\n",
       "9    2022-01-10\n",
       "Name: timestamp, dtype: object"
      ]
     },
     "execution_count": 40,
     "metadata": {},
     "output_type": "execute_result"
    }
   ],
   "source": [
    "prices_df[\"timestamp\"][0:10]"
   ]
  },
  {
   "cell_type": "code",
   "execution_count": 41,
   "metadata": {},
   "outputs": [],
   "source": [
    "# casting both common columns into same data type\n",
    "prices_df[\"timestamp\"] = pd.to_datetime(prices_df[\"timestamp\"])\n",
    "temp_df[\"created\"] = pd.to_datetime(temp_df[\"created\"])"
   ]
  },
  {
   "cell_type": "code",
   "execution_count": 42,
   "metadata": {},
   "outputs": [],
   "source": [
    "# inner joining using pd.merge()\n",
    "merged_df = pd.merge(temp_df, prices_df, left_on=\"created\", right_on=\"timestamp\", how=\"inner\")"
   ]
  },
  {
   "cell_type": "code",
   "execution_count": 43,
   "metadata": {},
   "outputs": [
    {
     "data": {
      "text/html": [
       "<div>\n",
       "<style scoped>\n",
       "    .dataframe tbody tr th:only-of-type {\n",
       "        vertical-align: middle;\n",
       "    }\n",
       "\n",
       "    .dataframe tbody tr th {\n",
       "        vertical-align: top;\n",
       "    }\n",
       "\n",
       "    .dataframe thead th {\n",
       "        text-align: right;\n",
       "    }\n",
       "</style>\n",
       "<table border=\"1\" class=\"dataframe\">\n",
       "  <thead>\n",
       "    <tr style=\"text-align: right;\">\n",
       "      <th></th>\n",
       "      <th>created</th>\n",
       "      <th>sentiment_score</th>\n",
       "      <th>timestamp</th>\n",
       "      <th>difference</th>\n",
       "    </tr>\n",
       "  </thead>\n",
       "  <tbody>\n",
       "    <tr>\n",
       "      <th>0</th>\n",
       "      <td>2022-01-01</td>\n",
       "      <td>4.0</td>\n",
       "      <td>2022-01-01</td>\n",
       "      <td>-842.52</td>\n",
       "    </tr>\n",
       "    <tr>\n",
       "      <th>1</th>\n",
       "      <td>2022-01-01</td>\n",
       "      <td>3.0</td>\n",
       "      <td>2022-01-01</td>\n",
       "      <td>-842.52</td>\n",
       "    </tr>\n",
       "    <tr>\n",
       "      <th>2</th>\n",
       "      <td>2022-01-01</td>\n",
       "      <td>11.0</td>\n",
       "      <td>2022-01-01</td>\n",
       "      <td>-842.52</td>\n",
       "    </tr>\n",
       "    <tr>\n",
       "      <th>3</th>\n",
       "      <td>2022-01-01</td>\n",
       "      <td>2.0</td>\n",
       "      <td>2022-01-01</td>\n",
       "      <td>-842.52</td>\n",
       "    </tr>\n",
       "    <tr>\n",
       "      <th>4</th>\n",
       "      <td>2022-01-01</td>\n",
       "      <td>1.0</td>\n",
       "      <td>2022-01-01</td>\n",
       "      <td>-842.52</td>\n",
       "    </tr>\n",
       "    <tr>\n",
       "      <th>...</th>\n",
       "      <td>...</td>\n",
       "      <td>...</td>\n",
       "      <td>...</td>\n",
       "      <td>...</td>\n",
       "    </tr>\n",
       "    <tr>\n",
       "      <th>16164</th>\n",
       "      <td>2022-12-31</td>\n",
       "      <td>1.0</td>\n",
       "      <td>2022-12-31</td>\n",
       "      <td>-21.54</td>\n",
       "    </tr>\n",
       "    <tr>\n",
       "      <th>16165</th>\n",
       "      <td>2022-12-31</td>\n",
       "      <td>4.0</td>\n",
       "      <td>2022-12-31</td>\n",
       "      <td>-21.54</td>\n",
       "    </tr>\n",
       "    <tr>\n",
       "      <th>16166</th>\n",
       "      <td>2022-12-31</td>\n",
       "      <td>2.0</td>\n",
       "      <td>2022-12-31</td>\n",
       "      <td>-21.54</td>\n",
       "    </tr>\n",
       "    <tr>\n",
       "      <th>16167</th>\n",
       "      <td>2022-12-31</td>\n",
       "      <td>7.0</td>\n",
       "      <td>2022-12-31</td>\n",
       "      <td>-21.54</td>\n",
       "    </tr>\n",
       "    <tr>\n",
       "      <th>16168</th>\n",
       "      <td>2022-12-31</td>\n",
       "      <td>11.0</td>\n",
       "      <td>2022-12-31</td>\n",
       "      <td>-21.54</td>\n",
       "    </tr>\n",
       "  </tbody>\n",
       "</table>\n",
       "<p>16169 rows × 4 columns</p>\n",
       "</div>"
      ],
      "text/plain": [
       "         created  sentiment_score  timestamp  difference\n",
       "0     2022-01-01              4.0 2022-01-01     -842.52\n",
       "1     2022-01-01              3.0 2022-01-01     -842.52\n",
       "2     2022-01-01             11.0 2022-01-01     -842.52\n",
       "3     2022-01-01              2.0 2022-01-01     -842.52\n",
       "4     2022-01-01              1.0 2022-01-01     -842.52\n",
       "...          ...              ...        ...         ...\n",
       "16164 2022-12-31              1.0 2022-12-31      -21.54\n",
       "16165 2022-12-31              4.0 2022-12-31      -21.54\n",
       "16166 2022-12-31              2.0 2022-12-31      -21.54\n",
       "16167 2022-12-31              7.0 2022-12-31      -21.54\n",
       "16168 2022-12-31             11.0 2022-12-31      -21.54\n",
       "\n",
       "[16169 rows x 4 columns]"
      ]
     },
     "execution_count": 43,
     "metadata": {},
     "output_type": "execute_result"
    }
   ],
   "source": [
    "merged_df"
   ]
  },
  {
   "cell_type": "markdown",
   "metadata": {},
   "source": [
    "No, they are far off from the actual difference.\n",
    "\n",
    "P.S.: I actually did not get the point of this task 4 as tge differences are quite high.\n",
    "May I know what am I missing?"
   ]
  },
  {
   "cell_type": "markdown",
   "metadata": {},
   "source": []
  }
 ],
 "metadata": {
  "kernelspec": {
   "display_name": "tada",
   "language": "python",
   "name": "python3"
  },
  "language_info": {
   "codemirror_mode": {
    "name": "ipython",
    "version": 3
   },
   "file_extension": ".py",
   "mimetype": "text/x-python",
   "name": "python",
   "nbconvert_exporter": "python",
   "pygments_lexer": "ipython3",
   "version": "3.10.13"
  }
 },
 "nbformat": 4,
 "nbformat_minor": 2
}
