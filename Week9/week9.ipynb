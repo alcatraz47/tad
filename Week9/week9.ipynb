{
 "cells": [
  {
   "cell_type": "code",
   "execution_count": 1,
   "metadata": {},
   "outputs": [],
   "source": [
    "import re\n",
    "import time\n",
    "import pandas as pd\n",
    "from nltk import pos_tag\n",
    "from nltk.corpus import stopwords\n",
    "from gensim.models import Word2Vec\n",
    "from nltk.stem import WordNetLemmatizer\n",
    "from scipy.spatial.distance import cdist"
   ]
  },
  {
   "cell_type": "code",
   "execution_count": 2,
   "metadata": {},
   "outputs": [],
   "source": [
    "movies_df = pd.read_json(\"trek.json\")"
   ]
  },
  {
   "cell_type": "code",
   "execution_count": 3,
   "metadata": {},
   "outputs": [
    {
     "data": {
      "text/html": [
       "<div>\n",
       "<style scoped>\n",
       "    .dataframe tbody tr th:only-of-type {\n",
       "        vertical-align: middle;\n",
       "    }\n",
       "\n",
       "    .dataframe tbody tr th {\n",
       "        vertical-align: top;\n",
       "    }\n",
       "\n",
       "    .dataframe thead th {\n",
       "        text-align: right;\n",
       "    }\n",
       "</style>\n",
       "<table border=\"1\" class=\"dataframe\">\n",
       "  <thead>\n",
       "    <tr style=\"text-align: right;\">\n",
       "      <th></th>\n",
       "      <th>DS9</th>\n",
       "      <th>TOS</th>\n",
       "      <th>TAS</th>\n",
       "      <th>TNG</th>\n",
       "      <th>VOY</th>\n",
       "      <th>ENT</th>\n",
       "    </tr>\n",
       "  </thead>\n",
       "  <tbody>\n",
       "    <tr>\n",
       "      <th>episode 0</th>\n",
       "      <td>\\n\\n\\n\\n\\n\\nThe Deep Space Nine Transcripts - ...</td>\n",
       "      <td>\\n\\n\\n\\n\\n\\nThe Star Trek Transcripts - The Ca...</td>\n",
       "      <td>\\n\\n\\n\\n\\n\\nThe Animated Star Trek Transcripts...</td>\n",
       "      <td>\\n\\n\\n\\n\\n\\nThe Next Generation Transcripts - ...</td>\n",
       "      <td>\\n\\n\\n\\n\\nThe Voyager Transcripts - Caretaker\\...</td>\n",
       "      <td>\\n\\n\\n\\n\\n\\nThe Enterprise Transcripts - Broke...</td>\n",
       "    </tr>\n",
       "    <tr>\n",
       "      <th>episode 1</th>\n",
       "      <td>\\n\\n\\n\\n\\n\\nThe Deep Space Nine Transcripts - ...</td>\n",
       "      <td>\\n\\n\\n\\n\\n\\nThe Star Trek Transcripts - The Ma...</td>\n",
       "      <td>\\n\\n\\n\\n\\n\\nThe Animated Star Trek Transcripts...</td>\n",
       "      <td>\\n\\n\\n\\n\\n\\nThe Next Generation Transcripts - ...</td>\n",
       "      <td>\\n\\n\\n\\n\\n\\nThe Voyager Transcripts - Parallax...</td>\n",
       "      <td>\\n\\n\\n\\n\\n\\nThe Enterprise Transcripts - Fight...</td>\n",
       "    </tr>\n",
       "    <tr>\n",
       "      <th>episode 2</th>\n",
       "      <td>\\n\\n\\n\\n\\n\\nThe Deep Space Nine Transcripts - ...</td>\n",
       "      <td>\\n\\n\\n\\n\\n\\nThe Star Trek Transcripts - Charli...</td>\n",
       "      <td>\\n\\n\\n\\n\\n\\nThe Animated Star Trek Transcripts...</td>\n",
       "      <td>\\n\\n\\n\\n\\n\\nThe Next Generation Transcripts - ...</td>\n",
       "      <td>\\n\\n\\n\\n\\n\\nThe Voyager Transcripts - Time and...</td>\n",
       "      <td>\\n\\n\\n\\n\\n\\nThe Enterprise Transcripts - Stran...</td>\n",
       "    </tr>\n",
       "    <tr>\n",
       "      <th>episode 3</th>\n",
       "      <td>\\n\\n\\n\\n\\n\\nThe Deep Space Nine Transcripts - ...</td>\n",
       "      <td>\\n\\n\\n\\n\\n\\nThe Star Trek Transcripts - Where ...</td>\n",
       "      <td>\\n\\n\\n\\n\\n\\nThe Animated Star Trek Transcripts...</td>\n",
       "      <td>\\n\\n\\n\\n\\n\\nThe Next Generation Transcripts - ...</td>\n",
       "      <td>\\n\\n\\n\\n\\n\\n\\nThe Voyager Transcripts - Phage\\...</td>\n",
       "      <td>\\n\\n\\n\\n\\n\\nThe Enterprise Transcripts - Unexp...</td>\n",
       "    </tr>\n",
       "    <tr>\n",
       "      <th>episode 4</th>\n",
       "      <td>\\n\\n\\n\\n\\n\\nThe Deep Space Nine Transcripts - ...</td>\n",
       "      <td>\\n\\n\\n\\n\\n\\nThe Star Trek Transcripts - The Na...</td>\n",
       "      <td>\\n\\n\\n\\n\\n\\nThe Animated Star Trek Transcripts...</td>\n",
       "      <td>\\n\\n\\n\\n\\n\\nThe Next Generation Transcripts - ...</td>\n",
       "      <td>\\n\\n\\n\\n\\n\\nThe Voyager Transcripts - The Clou...</td>\n",
       "      <td>\\n\\n\\n\\n\\n\\nThe Enterprise Transcripts - Terra...</td>\n",
       "    </tr>\n",
       "  </tbody>\n",
       "</table>\n",
       "</div>"
      ],
      "text/plain": [
       "                                                         DS9  \\\n",
       "episode 0  \\n\\n\\n\\n\\n\\nThe Deep Space Nine Transcripts - ...   \n",
       "episode 1  \\n\\n\\n\\n\\n\\nThe Deep Space Nine Transcripts - ...   \n",
       "episode 2  \\n\\n\\n\\n\\n\\nThe Deep Space Nine Transcripts - ...   \n",
       "episode 3  \\n\\n\\n\\n\\n\\nThe Deep Space Nine Transcripts - ...   \n",
       "episode 4  \\n\\n\\n\\n\\n\\nThe Deep Space Nine Transcripts - ...   \n",
       "\n",
       "                                                         TOS  \\\n",
       "episode 0  \\n\\n\\n\\n\\n\\nThe Star Trek Transcripts - The Ca...   \n",
       "episode 1  \\n\\n\\n\\n\\n\\nThe Star Trek Transcripts - The Ma...   \n",
       "episode 2  \\n\\n\\n\\n\\n\\nThe Star Trek Transcripts - Charli...   \n",
       "episode 3  \\n\\n\\n\\n\\n\\nThe Star Trek Transcripts - Where ...   \n",
       "episode 4  \\n\\n\\n\\n\\n\\nThe Star Trek Transcripts - The Na...   \n",
       "\n",
       "                                                         TAS  \\\n",
       "episode 0  \\n\\n\\n\\n\\n\\nThe Animated Star Trek Transcripts...   \n",
       "episode 1  \\n\\n\\n\\n\\n\\nThe Animated Star Trek Transcripts...   \n",
       "episode 2  \\n\\n\\n\\n\\n\\nThe Animated Star Trek Transcripts...   \n",
       "episode 3  \\n\\n\\n\\n\\n\\nThe Animated Star Trek Transcripts...   \n",
       "episode 4  \\n\\n\\n\\n\\n\\nThe Animated Star Trek Transcripts...   \n",
       "\n",
       "                                                         TNG  \\\n",
       "episode 0  \\n\\n\\n\\n\\n\\nThe Next Generation Transcripts - ...   \n",
       "episode 1  \\n\\n\\n\\n\\n\\nThe Next Generation Transcripts - ...   \n",
       "episode 2  \\n\\n\\n\\n\\n\\nThe Next Generation Transcripts - ...   \n",
       "episode 3  \\n\\n\\n\\n\\n\\nThe Next Generation Transcripts - ...   \n",
       "episode 4  \\n\\n\\n\\n\\n\\nThe Next Generation Transcripts - ...   \n",
       "\n",
       "                                                         VOY  \\\n",
       "episode 0  \\n\\n\\n\\n\\nThe Voyager Transcripts - Caretaker\\...   \n",
       "episode 1  \\n\\n\\n\\n\\n\\nThe Voyager Transcripts - Parallax...   \n",
       "episode 2  \\n\\n\\n\\n\\n\\nThe Voyager Transcripts - Time and...   \n",
       "episode 3  \\n\\n\\n\\n\\n\\n\\nThe Voyager Transcripts - Phage\\...   \n",
       "episode 4  \\n\\n\\n\\n\\n\\nThe Voyager Transcripts - The Clou...   \n",
       "\n",
       "                                                         ENT  \n",
       "episode 0  \\n\\n\\n\\n\\n\\nThe Enterprise Transcripts - Broke...  \n",
       "episode 1  \\n\\n\\n\\n\\n\\nThe Enterprise Transcripts - Fight...  \n",
       "episode 2  \\n\\n\\n\\n\\n\\nThe Enterprise Transcripts - Stran...  \n",
       "episode 3  \\n\\n\\n\\n\\n\\nThe Enterprise Transcripts - Unexp...  \n",
       "episode 4  \\n\\n\\n\\n\\n\\nThe Enterprise Transcripts - Terra...  "
      ]
     },
     "execution_count": 3,
     "metadata": {},
     "output_type": "execute_result"
    }
   ],
   "source": [
    "movies_df.head()"
   ]
  },
  {
   "cell_type": "code",
   "execution_count": 4,
   "metadata": {},
   "outputs": [],
   "source": [
    "# tdf = movies_df.apply(lambda text: \"obrien\" if text.values==\"O'Brien\" else text)\n",
    "for index, row in movies_df.iterrows():\n",
    "    for record in row.index:\n",
    "        if not pd.isna(row[record]):\n",
    "            if \"O'BRIEN\" in row[record]:\n",
    "                row[record] = row[record].replace(\"O'BRIEN\", \"obrien\")\n",
    "            elif \"O'Brien\" in row[record]:    \n",
    "                row[record] = row[record].replace(\"O'Brien\", \"obrien\")\n",
    "            elif \"T'Pol\" in row[record]:\n",
    "                row[record] = row[record].replace(\"T'Pol\", \"tpol\")\n",
    "            elif  \"T'POL\" in row[record]:\n",
    "                row[record] = row[record].replace(\"T'POL\", \"tpol\")"
   ]
  },
  {
   "cell_type": "code",
   "execution_count": 7,
   "metadata": {},
   "outputs": [
    {
     "data": {
      "text/plain": [
       "episode 0      True\n",
       "episode 1      True\n",
       "episode 2      True\n",
       "episode 3      True\n",
       "episode 4      True\n",
       "               ... \n",
       "episode 171    True\n",
       "episode 172    True\n",
       "episode 173     NaN\n",
       "episode 174     NaN\n",
       "episode 175     NaN\n",
       "Name: DS9, Length: 176, dtype: object"
      ]
     },
     "execution_count": 7,
     "metadata": {},
     "output_type": "execute_result"
    }
   ],
   "source": [
    "movies_df[\"DS9\"].str.contains(\"O'Brien\")\n",
    "# tdf[\"DS9\"].str.contains(\"OBrien\")"
   ]
  },
  {
   "cell_type": "code",
   "execution_count": 8,
   "metadata": {},
   "outputs": [],
   "source": [
    "characters_df = pd.read_csv(\"characters.csv\")"
   ]
  },
  {
   "cell_type": "code",
   "execution_count": 9,
   "metadata": {},
   "outputs": [
    {
     "data": {
      "text/html": [
       "<div>\n",
       "<style scoped>\n",
       "    .dataframe tbody tr th:only-of-type {\n",
       "        vertical-align: middle;\n",
       "    }\n",
       "\n",
       "    .dataframe tbody tr th {\n",
       "        vertical-align: top;\n",
       "    }\n",
       "\n",
       "    .dataframe thead th {\n",
       "        text-align: right;\n",
       "    }\n",
       "</style>\n",
       "<table border=\"1\" class=\"dataframe\">\n",
       "  <thead>\n",
       "    <tr style=\"text-align: right;\">\n",
       "      <th></th>\n",
       "      <th>Character</th>\n",
       "      <th>Series</th>\n",
       "      <th>Roles</th>\n",
       "    </tr>\n",
       "  </thead>\n",
       "  <tbody>\n",
       "    <tr>\n",
       "      <th>0</th>\n",
       "      <td>archer</td>\n",
       "      <td>ENT</td>\n",
       "      <td>Captains</td>\n",
       "    </tr>\n",
       "    <tr>\n",
       "      <th>1</th>\n",
       "      <td>kirk</td>\n",
       "      <td>TOS</td>\n",
       "      <td>Captains</td>\n",
       "    </tr>\n",
       "    <tr>\n",
       "      <th>2</th>\n",
       "      <td>picard</td>\n",
       "      <td>TNG</td>\n",
       "      <td>Captains</td>\n",
       "    </tr>\n",
       "    <tr>\n",
       "      <th>3</th>\n",
       "      <td>sisko</td>\n",
       "      <td>DS9</td>\n",
       "      <td>Captains</td>\n",
       "    </tr>\n",
       "    <tr>\n",
       "      <th>4</th>\n",
       "      <td>janeway</td>\n",
       "      <td>VOY</td>\n",
       "      <td>Captains</td>\n",
       "    </tr>\n",
       "  </tbody>\n",
       "</table>\n",
       "</div>"
      ],
      "text/plain": [
       "  Character Series     Roles\n",
       "0    archer    ENT  Captains\n",
       "1      kirk    TOS  Captains\n",
       "2    picard    TNG  Captains\n",
       "3     sisko    DS9  Captains\n",
       "4   janeway    VOY  Captains"
      ]
     },
     "execution_count": 9,
     "metadata": {},
     "output_type": "execute_result"
    }
   ],
   "source": [
    "characters_df.head()"
   ]
  },
  {
   "cell_type": "markdown",
   "metadata": {},
   "source": [
    "Task 2\n",
    "\n",
    "Proposed preprocessing:\n",
    "\n",
    "1. Keep alphabets, as other characters are not generating topic but might invoke the model to generate if abundant\n",
    "\n",
    "2. Remove stop words as our task is mainly: finding relationships, so, even though numbers might have impact on characters but the stopwords in my judgement have to be removed to avoid irrevant relationship building\n",
    "\n",
    "3. To lowercase/uppercase as Word2Vec are not required here to be kept as mixed case\n",
    "\n",
    "4. Lemmatization: the core form of words are needed rather than the participle forms to find the relationships in this exercise"
   ]
  },
  {
   "cell_type": "code",
   "execution_count": 10,
   "metadata": {},
   "outputs": [],
   "source": [
    "def clean_text(sentence: str) -> list:\n",
    "    \"\"\"cleaning text by extracting alphabets and\n",
    "    then splitting into word list for each sentence\n",
    "\n",
    "    Args:\n",
    "        sentence (str): sentence string\n",
    "\n",
    "    Returns:\n",
    "        list: list of words.\n",
    "    \"\"\"\n",
    "    pattern = re.compile(r\"[A-Za-z]+\")\n",
    "    return re.findall(pattern=pattern, string=sentence)\n",
    "\n",
    "def to_lowercase(word_list: list) -> list:\n",
    "    \"\"\"case changing of all contents in each list\n",
    "    of words\n",
    "\n",
    "    Args:\n",
    "        word_list (list): list of words with alphabets only texts\n",
    "\n",
    "    Returns:\n",
    "        word_list (list): list of words with lowercase transformation\n",
    "    \"\"\"\n",
    "    return [word.lower() for word in word_list]\n",
    "\n",
    "def remove_stopwords(list_of_words: list) -> list:\n",
    "    \"\"\"removing stop words from list of words by matching\n",
    "    English stop words and extracting those out \n",
    "    \n",
    "    Args:\n",
    "        list_of_words (list): list of words with stop words\n",
    "\n",
    "    Returns:\n",
    "        list: stop word free list of words\n",
    "    \"\"\"\n",
    "    stopword_list = stopwords.words(\"english\")\n",
    "\n",
    "    return [word for word in list_of_words if word not in stopword_list]\n",
    "\n",
    "def extract_word_lemma(word_list: list) -> list:\n",
    "    \"\"\"lemmatization of words list from word of list\n",
    "    using NLTK WordNetLemmatizer class\n",
    "\n",
    "    Args:\n",
    "        word_list (list): list of string\n",
    "\n",
    "    Returns:\n",
    "        list: lemmatized list of strings\n",
    "    \"\"\"\n",
    "    lemmatizer = WordNetLemmatizer()\n",
    "    return [\n",
    "        lemmatizer.lemmatize(word, tag[0].lower())\n",
    "        if tag[0].lower() in [\"n\", \"v\", \"a\", \"r\", \"s\"]\n",
    "        else word\n",
    "        for word, tag in pos_tag(word_list)\n",
    "    ]"
   ]
  },
  {
   "cell_type": "code",
   "execution_count": 11,
   "metadata": {},
   "outputs": [],
   "source": [
    "for col in movies_df.columns:\n",
    "    #cleaning text\n",
    "    # checks if not nan then cleans the text otherwise empty string\n",
    "    movies_df[f\"{col}_cleaned\"] = movies_df[col].apply(lambda text: clean_text(text) if not pd.isna(text) else \"\")\n",
    "    #removing stopwords\n",
    "    movies_df[f\"{col}_cleaned\"] = movies_df[f\"{col}_cleaned\"].apply(lambda word_list: remove_stopwords(word_list))\n",
    "    #to lowercase\n",
    "    movies_df[f\"{col}_cleaned\"] = movies_df[f\"{col}_cleaned\"].apply(lambda word_list: to_lowercase(word_list))\n",
    "    #lemmatize words\n",
    "    movies_df[f\"{col}_cleaned\"] = movies_df[f\"{col}_cleaned\"].apply(lambda word_list: extract_word_lemma(word_list))"
   ]
  },
  {
   "cell_type": "code",
   "execution_count": 12,
   "metadata": {},
   "outputs": [
    {
     "name": "stdout",
     "output_type": "stream",
     "text": [
      "\n",
      "\n",
      "\n",
      "\n",
      "\n",
      "\n",
      "The Deep Space Nine Transcripts - Emissary\n",
      "\n",
      "\n",
      "Emissary\n",
      "Stardate:\n",
      "46379.1\n",
      "Original Airdate: 3 Jan, 1993\n",
      "\n",
      "\n",
      "\n",
      "\n",
      "\n",
      "\n",
      "  \n",
      "On Stardate 43997, Captain Jean-Luc Picard of the Federation Starship\n",
      "Enterprise was kidnapped for six days by an invading force known as the\n",
      "Borg. Surgically altered, he was forced to lead an assault on Starfleet\n",
      "at Wolf 359.\n",
      "\n",
      "[Saratoga - Bridge]\n",
      "\n",
      "LOCUTUS [on viewscreen]: Resistance is futile. You\n",
      "will disarm your weapons and escort us to sector zero zero one. If you\n",
      "attempt to intervene, we will destroy you. \n",
      "CAPTAIN: (a Vulcan) Red alert. Load all torpedo bays. Ready phasers.\n",
      "Move us to position alpha, Ensign. \n",
      "(The space battle begins) \n",
      "OPS OFFICER: (woman) They've locked on. \n",
      "SISKO: Reroute auxiliary power. \n",
      "OPS OFFICER: Our shields are being drained. Sixty four percent. Forty\n",
      "two. \n",
      "CAPTAIN: Recalibrate shield nutation. \n",
      "TACTICAL: (Bolian) Modulation is having no effect. \n",
      "OPS OFFICER: Shields have failed. \n",
      "SISKO: Full reverse. \n",
      "CAPTAIN: Maintain all Argh! \n",
      "(Everythi\n",
      "========================\n",
      "['the', 'deep', 'space', 'nine', 'transcript', 'emissary', 'emissary', 'stardate', 'original', 'airdate', 'jan', 'on', 'stardate', 'captain', 'jean', 'luc', 'picard', 'federation', 'starship', 'enterprise', 'kidnap', 'six', 'day', 'invade', 'force', 'know', 'borg', 'surgically', 'alter', 'force', 'lead', 'assault', 'starfleet', 'wolf', 'saratoga', 'bridge', 'locutus', 'viewscreen', 'resistance', 'futile', 'you', 'disarm', 'weapon', 'escort', 'us', 'sector', 'zero', 'zero', 'one', 'if', 'attempt', 'intervene', 'destroy', 'captain', 'vulcan', 'red', 'alert', 'load', 'torpedo', 'bay', 'ready', 'phasers', 'move', 'us', 'position', 'alpha', 'ensign', 'the', 'space', 'battle', 'begin', 'ops', 'officer', 'woman', 'they', 'lock', 'sisko', 'reroute', 'auxiliary', 'power', 'ops', 'officer', 'our', 'shield', 'drain', 'sixty', 'four', 'percent', 'forty', 'two', 'captain', 'recalibrate', 'shield', 'nutation', 'tactical', 'bolian', 'modulation', 'effect', 'ops', 'officer', 'shield', 'fail', 'sisko', 'full', 'reverse', 'captain', 'maintain', 'argh', 'everything', 'go', 'boom', 'sisko', 'damage', 'report', 'damage', 'report', 'computer', 'warn', 'damage', 'warp', 'core', 'containment', 'failure', 'five', 'minute', 'tactical', 'direct', 'hit', 'deck', 'one', 'four', 'sisko', 'let', 'get', 'civilian', 'escape', 'pod', 'lieutenant', 'tactical', 'aye', 'sir', 'corridor', 'sisko', 'leave', 'everything', 'get', 'assign', 'evacuation', 'area', 'computer', 'warn', 'damage', 'warp', 'core', 'containment', 'failure', 'four', 'minute', 'they', 'come', 'woman', 'sisko', 'doran', 'tactical', 'i', 'take', 'care', 'you', 'go', 'sisko', 'have', 'see', 'jennifer', 'sisko', 'quarter', 'the', 'room', 'fire', 'sisko', 'wife', 'son', 'trap', 'beneath', 'girder', 'debris', 'sisko', 'jennifer', 'jake', 'computer', 'warn', 'damage', 'warp', 'core', 'containment', 'failure', 'three', 'minute', 'sisko', 'start', 'throw', 'debris', 'away', 'pull', 'boy', 'sisko', 'i', 'go', 'get', 'mom', 'you', 'go', 'okay', 'more', 'debris', 'shift', 'sisko', 'jennifer', 'okay', 'jake', 'get', 'mom', 'get', 'tactical', 'commander', 'sisko', 'help', 'jennifer', 'hold', 'tactical', 'scan', 'sir', 'sisko', 'just', 'help', 'get', 'free', 'tactical', 'she', 'go', 'there', 'nothing', 'we', 'leave', 'computer', 'warning', 'damage', 'warp', 'core', 'containment', 'failure', 'two', 'minute', 'tactical', 'ensign', 'take', 'boy', 'ensign', 'aye', 'sir', 'tactical', 'we', 'get', 'go', 'sir', 'sisko', 'damn', 'leave', 'the', 'bolian', 'haul', 'protest', 'sisko', 'room', 'runabout', 'sisko', 'jake', 'jake', 'okay', 'crewman', 'stand', 'launch', 'crewwoman', 'ready', 'and', 'saratoga', 'go', 'kaboom', 'stardate', 'three', 'year', 'later', 'fish', 'pond', 'the', 'gangly', 'youth', 'fishing', 'cover', 'bridge', 'sisko', 'jake', 'how', 'biting', 'jake', 'small', 'fry', 'throw', 'back', 'want', 'go', 'swim', 'sisko', 'don', 'time', 'we', 'get', 'ready', 'it', 'bad', 'i', 'heard', 'bajor', 'beautiful', 'world', 'jake', 'so', 'live', 'planet', 'instead', 'old', 'space', 'station', 'sisko', 'the', 'station', 'orbit', 'bajor', 'it', 'like', 'shore', 'duty', 'jake', 'will', 'kid', 'sisko', 'absolutely', 'lots', 'kid', 'captain', 'oc', 'bridge', 'sisko', 'sisko', 'yes', 'captain', 'captain', 'oc', 'we', 'approach', 'deep', 'space', 'nine', 'commander', 'we', 'dock', 'seven', 'minute', 'sisko', 'acknowledge', 'come', 'what', 'say', 'we', 'take', 'pond', 'us', 'computer', 'end', 'programme', 'corridor', 'jake', 'be', 'through', 'view', 'window', 'see', 'circular', 'space', 'station', 'three', 'curve', 'vertical', 'spine', 'oh', 'know', 'look', 'like', 'commence', 'station', 'log', 'deep', 'space', 'nine', 'commander', 'benjamin', 'sisko', 'stardate', 'at', 'request', 'bajoran', 'provisional', 'government', 'starfleet', 'agree', 'establish', 'federation', 'presence', 'system', 'follow', 'withdrawal', 'cardassian', 'occupational', 'force', 'the', 'first', 'contingent', 'officer', 'include', 'chief', 'operation', 'mile', 'o', 'brien', 'arrive', 'two', 'day', 'ago', 'enterprise', 'promenade', 'the', 'place', 'look', 'like', 'middle', 'war', 'zone', 'o', 'brien', 'black', 'overall', 'colour', 'shoulder', 'whilst', 'sisko', 'tng', 'style', 'uniform', 'still', 'obrien', 'i', 'tell', 'cardassians', 'decide', 'fun', 'day', 'leave', 'four', 'bajorans', 'kill', 'try', 'protect', 'shop', 'sisko', 'why', 'anybody', 'clean', 'obrien', 'we', 'get', 'available', 'personnel', 'assign', 'repair', 'primary', 'system', 'sir', 'the', 'cardassians', 'take', 'every', 'component', 'value', 'we', 'virtually', 'defenceless', 'i', 'discuss', 'major', 'kira', 'attach', 'assign', 'bajoran', 'government', 'decide', 'sisko', 'understood', 'what', 'civilians', 'operated', 'shop', 'obrien', 'a', 'lot', 'lose', 'everything', 'a', 'try', 'rebuild', 'pack', 'leave', 'shrine', 'entrance', 'monk', 'welcome', 'commander', 'please', 'enter', 'the', 'prophet', 'await', 'sisko', 'another', 'time', 'perhaps', 'monk', 'another', 'time', 'sisko', 'quarter', 'obrien', 'when', 'wife', 'keiko', 'saw', 'quarter', 'start', 'talk', 'visit', 'mother', 'kumamoto', 'sir', 'i', 'allow', 'boy', 'go', 'roam', 'we', 'still', 'security', 'problem', 'jake', 'dad', 'nothing', 'sleep', 'except', 'cushion', 'floor', 'obrien', 'we', 'get', 'real', 'bunk', 'enterprise', 'i', 'almost', 'forget', 'captain', 'picard', 'want', 'see', 'soon', 'possible', 'sisko', 'he', 'any', 'word', 'science', 'medical', 'officer', 'yet', 'obrien', 'they', 'expect', 'tomorrow', 'sisko', 'jake', 'i', 'want', 'stay', 'i', 'come', 'back', 'jake', 'be', 'food', 'replicator', 'obrien', 'i', 'afraid', 'offline', 'there', 'plenty', 'emergency', 'ration', 'i', 'could', 'send', 'jake', 'dad', 'sisko', 'we', 'go', 'rough', 'til', 'get', 'thing', 'run', 'jake', 'okay', 'jake', 'okay', 'sisko', 'okay', 'ops', 'repair', 'go', 'obrien', 'i', 'like', 'ask', 'designer', 'think', 'built', 'place', 'i', 'still', 'able', 'find', 'odn', 'access', 'prefect', 'office', 'office', 'step', 'view', 'whole', 'ops', 'sisko', 'so', 'others', 'look', 'respect', 'cardassian', 'architecture', 'obrien', 'yes', 'sir', 'major', 'kira', 'use', 'sisko', 'be', 'imagination', 'unusually', 'warm', 'obrien', 'the', 'environmental', 'control', 'ops', 'stick', 'thirty', 'two', 'c', 'we', 'work', 'raise', 'voice', 'hear', 'come', 'office', 'sisko', 'i', 'guess', 'time', 'meet', 'major', 'kira', 'obrien', 'sir', 'ever', 'serve', 'bajoran', 'woman', 'sisko', 'no', 'why', 'obrien', 'i', 'wonder', 'sir', 'kira', 'oc', 'they', 'become', 'meaningless', 'bureaucrat', 'oc', 'i', 'agree', 'kira', 'commander', 'office', 'the', 'major', 'fiery', 'red', 'head', 'rust', 'colour', 'uniform', 'kira', 'you', 'throw', 'away', 'all', 'bureaucrat', 'monitor', 'you', 'fool', 'kira', 'well', 'ask', 'opinion', 'next', 'time', 'turn', 'monitor', 'kira', 'yes', 'sisko', 'i', 'benjamin', 'sisko', 'kira', 'i', 'suppose', 'want', 'office', 'sisko', 'well', 'i', 'thought', 'i', 'say', 'hello', 'first', 'take', 'office', 'could', 'order', 'like', 'kira', 'hello', 'sisko', 'be', 'something', 'bother', 'major', 'kira', 'you', 'want', 'ask', 'commander', 'sisko', 'why', 'kira', 'because', 'i', 'bad', 'habit', 'tell', 'truth', 'even', 'people', 'want', 'hear', 'sisko', 'perhaps', 'i', 'want', 'hear', 'kira', 'i', 'believe', 'federation', 'business', 'sisko', 'the', 'provisional', 'government', 'disagree', 'kira', 'the', 'provisional', 'government', 'i', 'agree', 'lot', 'thing', 'probably', 'send', 'god', 'forsaken', 'place', 'i', 'fight', 'bajoran', 'independence', 'since', 'i', 'old', 'enough', 'pick', 'phaser', 'we', 'finally', 'drive', 'cardassians', 'new', 'leader', 'they', 'call', 'federation', 'invite', 'right', 'sisko', 'the', 'federation', 'help', 'kira', 'help', 'us', 'yes', 'i', 'know', 'the', 'cardassians', 'say', 'thing', 'sixty', 'year', 'ago', 'sisko', 'major', 'i', 'order', 'i', 'request', 'bajoran', 'national', 'first', 'officer', 'it', 'make', 'sense', 'it', 'still', 'least', 'now', 'i', 'go', 'beep', 'odo', 'oc', 'mostly', 'human', 'bland', 'face', 'yes', 'major', 'kira', 'odo', 'read', 'something', 'a', 'fourteen', 'odo', 'monitor', 'my', 'security', 'array', 'two', 'hour', 'i', 'meet', 'kira', 'we', 'lot', 'break', 'in', 'lately', 'no', 'need', 'come', 'along', 'commander', 'so', 'follow', 'assay', 'office', 'bajoran', 'security', 'grey', 'come', 'stair', 'nog', 'young', 'ferengi', 'hurry', 'now', 'the', 'alien', 'ransack', 'shelf', 'keep', 'go', 'nog', 'now', 'they', 'leave', 'break', 'piece', 'metal', 'mesh', 'onto', 'chaotic', 'promenade', 'promenade', 'odo', 'all', 'right', 'stand', 'kira', 'hold', 'the', 'alien', 'throw', 'morning', 'star', 'odo', 'morphs', 'head', 'go', 'straight', 'stick', 'bulkhead', 'behind', 'the', 'alien', 'try', 'run', 'odo', 'grabs', 'sisko', 'fire', 'phaser', 'sisko', 'that', 'enough', 'odo', 'who', 'hell', 'kira', 'odo', 'new', 'starfleet', 'commander', 'odo', 'i', 'allow', 'weapon', 'promenade', 'that', 'include', 'phasers', 'the', 'next', 'actor', 'play']\n"
     ]
    }
   ],
   "source": [
    "print(movies_df[\"DS9\"][0][:1000])\n",
    "print(\"========================\")\n",
    "print(movies_df[\"DS9_cleaned\"][0][:1000])\n",
    "# print(\"========================\")\n",
    "# print(movies_df[\"TAS\"][0][:1000])"
   ]
  },
  {
   "cell_type": "code",
   "execution_count": 13,
   "metadata": {},
   "outputs": [
    {
     "data": {
      "text/plain": [
       "Index(['DS9', 'TOS', 'TAS', 'TNG', 'VOY', 'ENT', 'DS9_cleaned', 'TOS_cleaned',\n",
       "       'TAS_cleaned', 'TNG_cleaned', 'VOY_cleaned', 'ENT_cleaned'],\n",
       "      dtype='object')"
      ]
     },
     "execution_count": 13,
     "metadata": {},
     "output_type": "execute_result"
    }
   ],
   "source": [
    "movies_df.columns"
   ]
  },
  {
   "cell_type": "code",
   "execution_count": 14,
   "metadata": {},
   "outputs": [],
   "source": [
    "corpus = []"
   ]
  },
  {
   "cell_type": "code",
   "execution_count": 15,
   "metadata": {},
   "outputs": [
    {
     "name": "stdout",
     "output_type": "stream",
     "text": [
      "DS9\n",
      "TOS\n",
      "TAS\n",
      "TNG\n",
      "VOY\n",
      "ENT\n",
      "DS9_cleaned\n",
      "TOS_cleaned\n",
      "TAS_cleaned\n",
      "TNG_cleaned\n",
      "VOY_cleaned\n",
      "ENT_cleaned\n"
     ]
    }
   ],
   "source": [
    "for i, item in enumerate(movies_df.items()):\n",
    "    print(item[0])\n",
    "    if i>5:\n",
    "        for val in movies_df[item[0]].values.tolist():\n",
    "            if len(val)!=0:\n",
    "                corpus.append(val)"
   ]
  },
  {
   "cell_type": "code",
   "execution_count": 16,
   "metadata": {},
   "outputs": [
    {
     "data": {
      "text/plain": [
       "708"
      ]
     },
     "execution_count": 16,
     "metadata": {},
     "output_type": "execute_result"
    }
   ],
   "source": [
    "len(corpus)"
   ]
  },
  {
   "cell_type": "code",
   "execution_count": 17,
   "metadata": {},
   "outputs": [
    {
     "data": {
      "text/plain": [
       "3392"
      ]
     },
     "execution_count": 17,
     "metadata": {},
     "output_type": "execute_result"
    }
   ],
   "source": [
    "len(corpus[2])"
   ]
  },
  {
   "cell_type": "code",
   "execution_count": 18,
   "metadata": {},
   "outputs": [
    {
     "data": {
      "text/plain": [
       "3392"
      ]
     },
     "execution_count": 18,
     "metadata": {},
     "output_type": "execute_result"
    }
   ],
   "source": [
    "len(movies_df[\"DS9_cleaned\"].values[2])"
   ]
  },
  {
   "cell_type": "markdown",
   "metadata": {},
   "source": [
    "Task 3"
   ]
  },
  {
   "cell_type": "code",
   "execution_count": 19,
   "metadata": {},
   "outputs": [],
   "source": [
    "w2v_model_window2 = Word2Vec(\n",
    "    sentences=corpus,\n",
    "    window=2,\n",
    "    vector_size=300,\n",
    "    workers=6\n",
    ")"
   ]
  },
  {
   "cell_type": "code",
   "execution_count": 20,
   "metadata": {},
   "outputs": [],
   "source": [
    "w2v_model_window10 = Word2Vec(\n",
    "    sentences=corpus,\n",
    "    window=10,\n",
    "    vector_size=300,\n",
    "    workers=6\n",
    ")"
   ]
  },
  {
   "cell_type": "markdown",
   "metadata": {},
   "source": [
    "Task 4\n",
    "\n",
    "Note: I have done for only TOS and TNG"
   ]
  },
  {
   "cell_type": "code",
   "execution_count": 21,
   "metadata": {},
   "outputs": [
    {
     "data": {
      "text/plain": [
       "20"
      ]
     },
     "execution_count": 21,
     "metadata": {},
     "output_type": "execute_result"
    }
   ],
   "source": [
    "len(characters_df)"
   ]
  },
  {
   "cell_type": "code",
   "execution_count": 22,
   "metadata": {},
   "outputs": [
    {
     "data": {
      "text/html": [
       "<div>\n",
       "<style scoped>\n",
       "    .dataframe tbody tr th:only-of-type {\n",
       "        vertical-align: middle;\n",
       "    }\n",
       "\n",
       "    .dataframe tbody tr th {\n",
       "        vertical-align: top;\n",
       "    }\n",
       "\n",
       "    .dataframe thead th {\n",
       "        text-align: right;\n",
       "    }\n",
       "</style>\n",
       "<table border=\"1\" class=\"dataframe\">\n",
       "  <thead>\n",
       "    <tr style=\"text-align: right;\">\n",
       "      <th></th>\n",
       "      <th>Character</th>\n",
       "      <th>Series</th>\n",
       "      <th>Roles</th>\n",
       "    </tr>\n",
       "  </thead>\n",
       "  <tbody>\n",
       "    <tr>\n",
       "      <th>0</th>\n",
       "      <td>archer</td>\n",
       "      <td>ENT</td>\n",
       "      <td>Captains</td>\n",
       "    </tr>\n",
       "    <tr>\n",
       "      <th>1</th>\n",
       "      <td>kirk</td>\n",
       "      <td>TOS</td>\n",
       "      <td>Captains</td>\n",
       "    </tr>\n",
       "    <tr>\n",
       "      <th>2</th>\n",
       "      <td>picard</td>\n",
       "      <td>TNG</td>\n",
       "      <td>Captains</td>\n",
       "    </tr>\n",
       "    <tr>\n",
       "      <th>3</th>\n",
       "      <td>sisko</td>\n",
       "      <td>DS9</td>\n",
       "      <td>Captains</td>\n",
       "    </tr>\n",
       "    <tr>\n",
       "      <th>4</th>\n",
       "      <td>janeway</td>\n",
       "      <td>VOY</td>\n",
       "      <td>Captains</td>\n",
       "    </tr>\n",
       "    <tr>\n",
       "      <th>5</th>\n",
       "      <td>tucker</td>\n",
       "      <td>ENT</td>\n",
       "      <td>Engineers</td>\n",
       "    </tr>\n",
       "    <tr>\n",
       "      <th>6</th>\n",
       "      <td>scott</td>\n",
       "      <td>TOS</td>\n",
       "      <td>Engineers</td>\n",
       "    </tr>\n",
       "    <tr>\n",
       "      <th>7</th>\n",
       "      <td>laforge</td>\n",
       "      <td>TNG</td>\n",
       "      <td>Engineers</td>\n",
       "    </tr>\n",
       "    <tr>\n",
       "      <th>8</th>\n",
       "      <td>obrien</td>\n",
       "      <td>DS9</td>\n",
       "      <td>Engineers</td>\n",
       "    </tr>\n",
       "    <tr>\n",
       "      <th>9</th>\n",
       "      <td>torres</td>\n",
       "      <td>VOY</td>\n",
       "      <td>Engineers</td>\n",
       "    </tr>\n",
       "    <tr>\n",
       "      <th>10</th>\n",
       "      <td>tpol</td>\n",
       "      <td>ENT</td>\n",
       "      <td>First Officers</td>\n",
       "    </tr>\n",
       "    <tr>\n",
       "      <th>11</th>\n",
       "      <td>spock</td>\n",
       "      <td>TOS</td>\n",
       "      <td>First Officers</td>\n",
       "    </tr>\n",
       "    <tr>\n",
       "      <th>12</th>\n",
       "      <td>riker</td>\n",
       "      <td>TNG</td>\n",
       "      <td>First Officers</td>\n",
       "    </tr>\n",
       "    <tr>\n",
       "      <th>13</th>\n",
       "      <td>kira</td>\n",
       "      <td>DS9</td>\n",
       "      <td>First Officers</td>\n",
       "    </tr>\n",
       "    <tr>\n",
       "      <th>14</th>\n",
       "      <td>chakotay</td>\n",
       "      <td>VOY</td>\n",
       "      <td>First Officers</td>\n",
       "    </tr>\n",
       "    <tr>\n",
       "      <th>15</th>\n",
       "      <td>trip</td>\n",
       "      <td>ENT</td>\n",
       "      <td>Nicknames</td>\n",
       "    </tr>\n",
       "    <tr>\n",
       "      <th>16</th>\n",
       "      <td>scotty</td>\n",
       "      <td>TOS</td>\n",
       "      <td>Nicknames</td>\n",
       "    </tr>\n",
       "    <tr>\n",
       "      <th>17</th>\n",
       "      <td>beverly</td>\n",
       "      <td>TNG</td>\n",
       "      <td>Nicknames</td>\n",
       "    </tr>\n",
       "    <tr>\n",
       "      <th>18</th>\n",
       "      <td>jadzia</td>\n",
       "      <td>DS9</td>\n",
       "      <td>Nicknames</td>\n",
       "    </tr>\n",
       "    <tr>\n",
       "      <th>19</th>\n",
       "      <td>harry</td>\n",
       "      <td>VOY</td>\n",
       "      <td>Nicknames</td>\n",
       "    </tr>\n",
       "  </tbody>\n",
       "</table>\n",
       "</div>"
      ],
      "text/plain": [
       "   Character Series           Roles\n",
       "0     archer    ENT        Captains\n",
       "1       kirk    TOS        Captains\n",
       "2     picard    TNG        Captains\n",
       "3      sisko    DS9        Captains\n",
       "4    janeway    VOY        Captains\n",
       "5     tucker    ENT       Engineers\n",
       "6      scott    TOS       Engineers\n",
       "7    laforge    TNG       Engineers\n",
       "8     obrien    DS9       Engineers\n",
       "9     torres    VOY       Engineers\n",
       "10      tpol    ENT  First Officers\n",
       "11     spock    TOS  First Officers\n",
       "12     riker    TNG  First Officers\n",
       "13      kira    DS9  First Officers\n",
       "14  chakotay    VOY  First Officers\n",
       "15      trip    ENT       Nicknames\n",
       "16    scotty    TOS       Nicknames\n",
       "17   beverly    TNG       Nicknames\n",
       "18    jadzia    DS9       Nicknames\n",
       "19     harry    VOY       Nicknames"
      ]
     },
     "execution_count": 22,
     "metadata": {},
     "output_type": "execute_result"
    }
   ],
   "source": [
    "characters_df"
   ]
  },
  {
   "cell_type": "code",
   "execution_count": 23,
   "metadata": {},
   "outputs": [],
   "source": [
    "tos_chars = characters_df[characters_df[\"Series\"]==\"TOS\"]"
   ]
  },
  {
   "cell_type": "code",
   "execution_count": 24,
   "metadata": {},
   "outputs": [
    {
     "data": {
      "text/html": [
       "<div>\n",
       "<style scoped>\n",
       "    .dataframe tbody tr th:only-of-type {\n",
       "        vertical-align: middle;\n",
       "    }\n",
       "\n",
       "    .dataframe tbody tr th {\n",
       "        vertical-align: top;\n",
       "    }\n",
       "\n",
       "    .dataframe thead th {\n",
       "        text-align: right;\n",
       "    }\n",
       "</style>\n",
       "<table border=\"1\" class=\"dataframe\">\n",
       "  <thead>\n",
       "    <tr style=\"text-align: right;\">\n",
       "      <th></th>\n",
       "      <th>Character</th>\n",
       "      <th>Series</th>\n",
       "      <th>Roles</th>\n",
       "    </tr>\n",
       "  </thead>\n",
       "  <tbody>\n",
       "    <tr>\n",
       "      <th>1</th>\n",
       "      <td>kirk</td>\n",
       "      <td>TOS</td>\n",
       "      <td>Captains</td>\n",
       "    </tr>\n",
       "    <tr>\n",
       "      <th>6</th>\n",
       "      <td>scott</td>\n",
       "      <td>TOS</td>\n",
       "      <td>Engineers</td>\n",
       "    </tr>\n",
       "    <tr>\n",
       "      <th>11</th>\n",
       "      <td>spock</td>\n",
       "      <td>TOS</td>\n",
       "      <td>First Officers</td>\n",
       "    </tr>\n",
       "    <tr>\n",
       "      <th>16</th>\n",
       "      <td>scotty</td>\n",
       "      <td>TOS</td>\n",
       "      <td>Nicknames</td>\n",
       "    </tr>\n",
       "  </tbody>\n",
       "</table>\n",
       "</div>"
      ],
      "text/plain": [
       "   Character Series           Roles\n",
       "1       kirk    TOS        Captains\n",
       "6      scott    TOS       Engineers\n",
       "11     spock    TOS  First Officers\n",
       "16    scotty    TOS       Nicknames"
      ]
     },
     "execution_count": 24,
     "metadata": {},
     "output_type": "execute_result"
    }
   ],
   "source": [
    "tos_chars.head()"
   ]
  },
  {
   "cell_type": "code",
   "execution_count": 25,
   "metadata": {},
   "outputs": [
    {
     "name": "stdout",
     "output_type": "stream",
     "text": [
      "1       kirk\n",
      "6      scott\n",
      "11     spock\n",
      "16    scotty\n",
      "Name: Character, dtype: object\n"
     ]
    }
   ],
   "source": [
    "print(tos_chars[\"Character\"])"
   ]
  },
  {
   "cell_type": "code",
   "execution_count": 26,
   "metadata": {},
   "outputs": [
    {
     "name": "stdout",
     "output_type": "stream",
     "text": [
      "[Info:] For Word2Vec model with window size 2\n",
      "--------------------------------------------------\n",
      "Cosine similarity between kirk vs rest of that movie characters\n",
      "0.50938386\n",
      "0.6782039\n",
      "0.3837251\n",
      "==================================================\n",
      "Cosine similarity between scott vs rest of that movie characters\n",
      "0.5736383\n",
      "0.6400283\n",
      "==================================================\n",
      "Cosine similarity between spock vs rest of that movie characters\n",
      "0.28869802\n",
      "==================================================\n"
     ]
    }
   ],
   "source": [
    "print(\"[Info:] For Word2Vec model with window size 2\")\n",
    "print(\"--------------------------------------------------\")\n",
    "print(f\"Cosine similarity between {tos_chars['Character'].iloc[0]} vs rest of that movie characters\")\n",
    "print(w2v_model_window2.wv.similarity(tos_chars[\"Character\"].iloc[0], tos_chars[\"Character\"].iloc[1]))\n",
    "print(w2v_model_window2.wv.similarity(tos_chars[\"Character\"].iloc[0], tos_chars[\"Character\"].iloc[2]))\n",
    "print(w2v_model_window2.wv.similarity(tos_chars[\"Character\"].iloc[0], tos_chars[\"Character\"].iloc[3]))\n",
    "print(\"==================================================\")\n",
    "\n",
    "\n",
    "print(f\"Cosine similarity between {tos_chars['Character'].iloc[1]} vs rest of that movie characters\")\n",
    "print(w2v_model_window2.wv.similarity(tos_chars[\"Character\"].iloc[1], tos_chars[\"Character\"].iloc[2]))\n",
    "print(w2v_model_window2.wv.similarity(tos_chars[\"Character\"].iloc[1], tos_chars[\"Character\"].iloc[3]))\n",
    "print(\"==================================================\")\n",
    "\n",
    "print(f\"Cosine similarity between {tos_chars['Character'].iloc[2]} vs rest of that movie characters\")\n",
    "print(w2v_model_window2.wv.similarity(tos_chars[\"Character\"].iloc[2], tos_chars[\"Character\"].iloc[3]))\n",
    "print(\"==================================================\")"
   ]
  },
  {
   "cell_type": "code",
   "execution_count": 27,
   "metadata": {},
   "outputs": [
    {
     "name": "stdout",
     "output_type": "stream",
     "text": [
      "[Info:] For Word2Vec model with window size 10\n",
      "--------------------------------------------------\n",
      "Cosine similarity between kirk vs rest of that movie characters\n",
      "0.41160354\n",
      "0.7633231\n",
      "0.14840163\n",
      "==================================================\n",
      "Cosine similarity between scott vs rest of that movie characters\n",
      "0.46575943\n",
      "0.6496841\n",
      "==================================================\n",
      "Cosine similarity between spock vs rest of that movie characters\n",
      "0.050443817\n",
      "==================================================\n"
     ]
    }
   ],
   "source": [
    "print(\"[Info:] For Word2Vec model with window size 10\")\n",
    "print(\"--------------------------------------------------\")\n",
    "print(f\"Cosine similarity between {tos_chars['Character'].iloc[0]} vs rest of that movie characters\")\n",
    "print(w2v_model_window10.wv.similarity(tos_chars[\"Character\"].iloc[0], tos_chars[\"Character\"].iloc[1]))\n",
    "print(w2v_model_window10.wv.similarity(tos_chars[\"Character\"].iloc[0], tos_chars[\"Character\"].iloc[2]))\n",
    "print(w2v_model_window10.wv.similarity(tos_chars[\"Character\"].iloc[0], tos_chars[\"Character\"].iloc[3]))\n",
    "print(\"==================================================\")\n",
    "\n",
    "\n",
    "print(f\"Cosine similarity between {tos_chars['Character'].iloc[1]} vs rest of that movie characters\")\n",
    "print(w2v_model_window10.wv.similarity(tos_chars[\"Character\"].iloc[1], tos_chars[\"Character\"].iloc[2]))\n",
    "print(w2v_model_window10.wv.similarity(tos_chars[\"Character\"].iloc[1], tos_chars[\"Character\"].iloc[3]))\n",
    "print(\"==================================================\")\n",
    "\n",
    "print(f\"Cosine similarity between {tos_chars['Character'].iloc[2]} vs rest of that movie characters\")\n",
    "print(w2v_model_window10.wv.similarity(tos_chars[\"Character\"].iloc[2], tos_chars[\"Character\"].iloc[3]))\n",
    "print(\"==================================================\")"
   ]
  },
  {
   "cell_type": "code",
   "execution_count": 28,
   "metadata": {},
   "outputs": [],
   "source": [
    "tng_chars = characters_df[characters_df[\"Series\"]==\"TNG\"]"
   ]
  },
  {
   "cell_type": "code",
   "execution_count": 29,
   "metadata": {},
   "outputs": [
    {
     "data": {
      "text/html": [
       "<div>\n",
       "<style scoped>\n",
       "    .dataframe tbody tr th:only-of-type {\n",
       "        vertical-align: middle;\n",
       "    }\n",
       "\n",
       "    .dataframe tbody tr th {\n",
       "        vertical-align: top;\n",
       "    }\n",
       "\n",
       "    .dataframe thead th {\n",
       "        text-align: right;\n",
       "    }\n",
       "</style>\n",
       "<table border=\"1\" class=\"dataframe\">\n",
       "  <thead>\n",
       "    <tr style=\"text-align: right;\">\n",
       "      <th></th>\n",
       "      <th>Character</th>\n",
       "      <th>Series</th>\n",
       "      <th>Roles</th>\n",
       "    </tr>\n",
       "  </thead>\n",
       "  <tbody>\n",
       "    <tr>\n",
       "      <th>2</th>\n",
       "      <td>picard</td>\n",
       "      <td>TNG</td>\n",
       "      <td>Captains</td>\n",
       "    </tr>\n",
       "    <tr>\n",
       "      <th>7</th>\n",
       "      <td>laforge</td>\n",
       "      <td>TNG</td>\n",
       "      <td>Engineers</td>\n",
       "    </tr>\n",
       "    <tr>\n",
       "      <th>12</th>\n",
       "      <td>riker</td>\n",
       "      <td>TNG</td>\n",
       "      <td>First Officers</td>\n",
       "    </tr>\n",
       "    <tr>\n",
       "      <th>17</th>\n",
       "      <td>beverly</td>\n",
       "      <td>TNG</td>\n",
       "      <td>Nicknames</td>\n",
       "    </tr>\n",
       "  </tbody>\n",
       "</table>\n",
       "</div>"
      ],
      "text/plain": [
       "   Character Series           Roles\n",
       "2     picard    TNG        Captains\n",
       "7    laforge    TNG       Engineers\n",
       "12     riker    TNG  First Officers\n",
       "17   beverly    TNG       Nicknames"
      ]
     },
     "execution_count": 29,
     "metadata": {},
     "output_type": "execute_result"
    }
   ],
   "source": [
    "tng_chars"
   ]
  },
  {
   "cell_type": "code",
   "execution_count": 30,
   "metadata": {},
   "outputs": [
    {
     "name": "stdout",
     "output_type": "stream",
     "text": [
      "[Info:] For Word2Vec model with window size 2\n",
      "--------------------------------------------------\n",
      "Cosine similarity between picard vs rest of that movie characters\n",
      "0.4303182\n",
      "0.6405068\n",
      "0.26957816\n",
      "==================================================\n",
      "Cosine similarity between laforge vs rest of that movie characters\n",
      "0.69371164\n",
      "0.039259173\n",
      "==================================================\n",
      "Cosine similarity between riker vs rest of that movie characters\n",
      "0.19341454\n",
      "==================================================\n"
     ]
    }
   ],
   "source": [
    "print(\"[Info:] For Word2Vec model with window size 2\")\n",
    "print(\"--------------------------------------------------\")\n",
    "print(f\"Cosine similarity between {tng_chars['Character'].iloc[0]} vs rest of that movie characters\")\n",
    "print(w2v_model_window2.wv.similarity(tng_chars[\"Character\"].iloc[0], tng_chars[\"Character\"].iloc[1]))\n",
    "print(w2v_model_window2.wv.similarity(tng_chars[\"Character\"].iloc[0], tng_chars[\"Character\"].iloc[2]))\n",
    "print(w2v_model_window2.wv.similarity(tng_chars[\"Character\"].iloc[0], tng_chars[\"Character\"].iloc[3]))\n",
    "print(\"==================================================\")\n",
    "\n",
    "\n",
    "print(f\"Cosine similarity between {tng_chars['Character'].iloc[1]} vs rest of that movie characters\")\n",
    "print(w2v_model_window2.wv.similarity(tng_chars[\"Character\"].iloc[1], tng_chars[\"Character\"].iloc[2]))\n",
    "print(w2v_model_window2.wv.similarity(tng_chars[\"Character\"].iloc[1], tng_chars[\"Character\"].iloc[3]))\n",
    "print(\"==================================================\")\n",
    "\n",
    "print(f\"Cosine similarity between {tng_chars['Character'].iloc[2]} vs rest of that movie characters\")\n",
    "print(w2v_model_window2.wv.similarity(tng_chars[\"Character\"].iloc[2], tng_chars[\"Character\"].iloc[3]))\n",
    "print(\"==================================================\")"
   ]
  },
  {
   "cell_type": "code",
   "execution_count": 31,
   "metadata": {},
   "outputs": [
    {
     "name": "stdout",
     "output_type": "stream",
     "text": [
      "[Info:] For Word2Vec model with window size 10\n",
      "--------------------------------------------------\n",
      "Cosine similarity between picard vs rest of that movie characters\n",
      "0.23799735\n",
      "0.561458\n",
      "0.10209384\n",
      "==================================================\n",
      "Cosine similarity between laforge vs rest of that movie characters\n",
      "0.5212987\n",
      "-0.11195532\n",
      "==================================================\n",
      "Cosine similarity between riker vs rest of that movie characters\n",
      "0.057595998\n",
      "==================================================\n"
     ]
    }
   ],
   "source": [
    "print(\"[Info:] For Word2Vec model with window size 10\")\n",
    "print(\"--------------------------------------------------\")\n",
    "print(f\"Cosine similarity between {tng_chars['Character'].iloc[0]} vs rest of that movie characters\")\n",
    "print(w2v_model_window10.wv.similarity(tng_chars[\"Character\"].iloc[0], tng_chars[\"Character\"].iloc[1]))\n",
    "print(w2v_model_window10.wv.similarity(tng_chars[\"Character\"].iloc[0], tng_chars[\"Character\"].iloc[2]))\n",
    "print(w2v_model_window10.wv.similarity(tng_chars[\"Character\"].iloc[0], tng_chars[\"Character\"].iloc[3]))\n",
    "print(\"==================================================\")\n",
    "\n",
    "\n",
    "print(f\"Cosine similarity between {tng_chars['Character'].iloc[1]} vs rest of that movie characters\")\n",
    "print(w2v_model_window10.wv.similarity(tng_chars[\"Character\"].iloc[1], tng_chars[\"Character\"].iloc[2]))\n",
    "print(w2v_model_window10.wv.similarity(tng_chars[\"Character\"].iloc[1], tng_chars[\"Character\"].iloc[3]))\n",
    "print(\"==================================================\")\n",
    "\n",
    "print(f\"Cosine similarity between {tng_chars['Character'].iloc[2]} vs rest of that movie characters\")\n",
    "print(w2v_model_window10.wv.similarity(tng_chars[\"Character\"].iloc[2], tng_chars[\"Character\"].iloc[3]))\n",
    "print(\"==================================================\")"
   ]
  },
  {
   "cell_type": "code",
   "execution_count": 32,
   "metadata": {},
   "outputs": [
    {
     "name": "stdout",
     "output_type": "stream",
     "text": [
      "[Info:] For Word2Vec model with window size 2\n",
      "--------------------------------------------------\n",
      "Cosine similarity between picard vs kirk\n",
      "0.65013564\n",
      "Cosine similarity between picard vs scott\n",
      "0.49607232\n",
      "Cosine similarity between picard vs spock\n",
      "0.5578343\n",
      "Cosine similarity between picard vs scotty\n",
      "0.36224183\n",
      "==================================================\n",
      "Cosine similarity between laforge vs scott\n",
      "0.5876373\n",
      "Cosine similarity between laforge vs spock\n",
      "0.250213\n",
      "Cosine similarity between laforge vs scotty\n",
      "0.40245247\n",
      "==================================================\n",
      "Cosine similarity between riker vs spock\n",
      "0.37435502\n",
      "Cosine similarity between riker vs scotty\n",
      "0.44006148\n",
      "==================================================\n"
     ]
    }
   ],
   "source": [
    "print(\"[Info:] For Word2Vec model with window size 2\")\n",
    "print(\"--------------------------------------------------\")\n",
    "print(f\"Cosine similarity between {tng_chars['Character'].iloc[0]} vs {tos_chars['Character'].iloc[0]}\")\n",
    "print(w2v_model_window2.wv.similarity(tng_chars[\"Character\"].iloc[0], tos_chars[\"Character\"].iloc[0]))\n",
    "print(f\"Cosine similarity between {tng_chars['Character'].iloc[0]} vs {tos_chars['Character'].iloc[1]}\")\n",
    "print(w2v_model_window2.wv.similarity(tng_chars[\"Character\"].iloc[0], tos_chars[\"Character\"].iloc[1]))\n",
    "print(f\"Cosine similarity between {tng_chars['Character'].iloc[0]} vs {tos_chars['Character'].iloc[2]}\")\n",
    "print(w2v_model_window2.wv.similarity(tng_chars[\"Character\"].iloc[0], tos_chars[\"Character\"].iloc[2]))\n",
    "print(f\"Cosine similarity between {tng_chars['Character'].iloc[0]} vs {tos_chars['Character'].iloc[3]}\")\n",
    "print(w2v_model_window2.wv.similarity(tng_chars[\"Character\"].iloc[0], tos_chars[\"Character\"].iloc[3]))\n",
    "print(\"==================================================\")\n",
    "\n",
    "print(f\"Cosine similarity between {tng_chars['Character'].iloc[1]} vs {tos_chars['Character'].iloc[1]}\")\n",
    "print(w2v_model_window2.wv.similarity(tng_chars[\"Character\"].iloc[1], tos_chars[\"Character\"].iloc[1]))\n",
    "print(f\"Cosine similarity between {tng_chars['Character'].iloc[1]} vs {tos_chars['Character'].iloc[2]}\")\n",
    "print(w2v_model_window2.wv.similarity(tng_chars[\"Character\"].iloc[1], tos_chars[\"Character\"].iloc[2]))\n",
    "print(f\"Cosine similarity between {tng_chars['Character'].iloc[1]} vs {tos_chars['Character'].iloc[3]}\")\n",
    "print(w2v_model_window2.wv.similarity(tng_chars[\"Character\"].iloc[1], tos_chars[\"Character\"].iloc[3]))\n",
    "print(\"==================================================\")\n",
    "\n",
    "print(f\"Cosine similarity between {tng_chars['Character'].iloc[2]} vs {tos_chars['Character'].iloc[2]}\")\n",
    "print(w2v_model_window2.wv.similarity(tng_chars[\"Character\"].iloc[2], tos_chars[\"Character\"].iloc[2]))\n",
    "print(f\"Cosine similarity between {tng_chars['Character'].iloc[2]} vs {tos_chars['Character'].iloc[3]}\")\n",
    "print(w2v_model_window2.wv.similarity(tng_chars[\"Character\"].iloc[2], tos_chars[\"Character\"].iloc[3]))\n",
    "print(\"==================================================\")"
   ]
  },
  {
   "cell_type": "code",
   "execution_count": 33,
   "metadata": {},
   "outputs": [
    {
     "name": "stdout",
     "output_type": "stream",
     "text": [
      "[Info:] For Word2Vec model with window size 10\n",
      "--------------------------------------------------\n",
      "Cosine similarity between picard vs kirk\n",
      "0.13474989\n",
      "Cosine similarity between picard vs scott\n",
      "0.16353893\n",
      "Cosine similarity between picard vs spock\n",
      "0.19993867\n",
      "Cosine similarity between picard vs scotty\n",
      "-0.04615826\n",
      "==================================================\n",
      "Cosine similarity between laforge vs scott\n",
      "0.4760766\n",
      "Cosine similarity between laforge vs spock\n",
      "0.067430146\n",
      "Cosine similarity between laforge vs scotty\n",
      "0.3182582\n",
      "==================================================\n",
      "Cosine similarity between riker vs spock\n",
      "0.0054658335\n",
      "Cosine similarity between riker vs scotty\n",
      "0.11135006\n",
      "==================================================\n"
     ]
    }
   ],
   "source": [
    "print(\"[Info:] For Word2Vec model with window size 10\")\n",
    "print(\"--------------------------------------------------\")\n",
    "print(f\"Cosine similarity between {tng_chars['Character'].iloc[0]} vs {tos_chars['Character'].iloc[0]}\")\n",
    "print(w2v_model_window10.wv.similarity(tng_chars[\"Character\"].iloc[0], tos_chars[\"Character\"].iloc[0]))\n",
    "print(f\"Cosine similarity between {tng_chars['Character'].iloc[0]} vs {tos_chars['Character'].iloc[1]}\")\n",
    "print(w2v_model_window10.wv.similarity(tng_chars[\"Character\"].iloc[0], tos_chars[\"Character\"].iloc[1]))\n",
    "print(f\"Cosine similarity between {tng_chars['Character'].iloc[0]} vs {tos_chars['Character'].iloc[2]}\")\n",
    "print(w2v_model_window10.wv.similarity(tng_chars[\"Character\"].iloc[0], tos_chars[\"Character\"].iloc[2]))\n",
    "print(f\"Cosine similarity between {tng_chars['Character'].iloc[0]} vs {tos_chars['Character'].iloc[3]}\")\n",
    "print(w2v_model_window10.wv.similarity(tng_chars[\"Character\"].iloc[0], tos_chars[\"Character\"].iloc[3]))\n",
    "print(\"==================================================\")\n",
    "\n",
    "print(f\"Cosine similarity between {tng_chars['Character'].iloc[1]} vs {tos_chars['Character'].iloc[1]}\")\n",
    "print(w2v_model_window10.wv.similarity(tng_chars[\"Character\"].iloc[1], tos_chars[\"Character\"].iloc[1]))\n",
    "print(f\"Cosine similarity between {tng_chars['Character'].iloc[1]} vs {tos_chars['Character'].iloc[2]}\")\n",
    "print(w2v_model_window10.wv.similarity(tng_chars[\"Character\"].iloc[1], tos_chars[\"Character\"].iloc[2]))\n",
    "print(f\"Cosine similarity between {tng_chars['Character'].iloc[1]} vs {tos_chars['Character'].iloc[3]}\")\n",
    "print(w2v_model_window10.wv.similarity(tng_chars[\"Character\"].iloc[1], tos_chars[\"Character\"].iloc[3]))\n",
    "print(\"==================================================\")\n",
    "\n",
    "print(f\"Cosine similarity between {tng_chars['Character'].iloc[2]} vs {tos_chars['Character'].iloc[2]}\")\n",
    "print(w2v_model_window10.wv.similarity(tng_chars[\"Character\"].iloc[2], tos_chars[\"Character\"].iloc[2]))\n",
    "print(f\"Cosine similarity between {tng_chars['Character'].iloc[2]} vs {tos_chars['Character'].iloc[3]}\")\n",
    "print(w2v_model_window10.wv.similarity(tng_chars[\"Character\"].iloc[2], tos_chars[\"Character\"].iloc[3]))\n",
    "print(\"==================================================\")"
   ]
  },
  {
   "cell_type": "markdown",
   "metadata": {},
   "source": [
    "Noticing the model with window 10 can differentiates better between the characters of different shows."
   ]
  },
  {
   "cell_type": "markdown",
   "metadata": {},
   "source": [
    "Task 5\n",
    "\n",
    "Note: I have done for only TNG and TOS"
   ]
  },
  {
   "cell_type": "code",
   "execution_count": 34,
   "metadata": {},
   "outputs": [
    {
     "data": {
      "text/html": [
       "<div>\n",
       "<style scoped>\n",
       "    .dataframe tbody tr th:only-of-type {\n",
       "        vertical-align: middle;\n",
       "    }\n",
       "\n",
       "    .dataframe tbody tr th {\n",
       "        vertical-align: top;\n",
       "    }\n",
       "\n",
       "    .dataframe thead th {\n",
       "        text-align: right;\n",
       "    }\n",
       "</style>\n",
       "<table border=\"1\" class=\"dataframe\">\n",
       "  <thead>\n",
       "    <tr style=\"text-align: right;\">\n",
       "      <th></th>\n",
       "      <th>Character</th>\n",
       "      <th>Series</th>\n",
       "      <th>Roles</th>\n",
       "    </tr>\n",
       "  </thead>\n",
       "  <tbody>\n",
       "    <tr>\n",
       "      <th>0</th>\n",
       "      <td>archer</td>\n",
       "      <td>ENT</td>\n",
       "      <td>Captains</td>\n",
       "    </tr>\n",
       "    <tr>\n",
       "      <th>1</th>\n",
       "      <td>kirk</td>\n",
       "      <td>TOS</td>\n",
       "      <td>Captains</td>\n",
       "    </tr>\n",
       "    <tr>\n",
       "      <th>2</th>\n",
       "      <td>picard</td>\n",
       "      <td>TNG</td>\n",
       "      <td>Captains</td>\n",
       "    </tr>\n",
       "    <tr>\n",
       "      <th>3</th>\n",
       "      <td>sisko</td>\n",
       "      <td>DS9</td>\n",
       "      <td>Captains</td>\n",
       "    </tr>\n",
       "    <tr>\n",
       "      <th>4</th>\n",
       "      <td>janeway</td>\n",
       "      <td>VOY</td>\n",
       "      <td>Captains</td>\n",
       "    </tr>\n",
       "    <tr>\n",
       "      <th>5</th>\n",
       "      <td>tucker</td>\n",
       "      <td>ENT</td>\n",
       "      <td>Engineers</td>\n",
       "    </tr>\n",
       "    <tr>\n",
       "      <th>6</th>\n",
       "      <td>scott</td>\n",
       "      <td>TOS</td>\n",
       "      <td>Engineers</td>\n",
       "    </tr>\n",
       "    <tr>\n",
       "      <th>7</th>\n",
       "      <td>laforge</td>\n",
       "      <td>TNG</td>\n",
       "      <td>Engineers</td>\n",
       "    </tr>\n",
       "    <tr>\n",
       "      <th>8</th>\n",
       "      <td>obrien</td>\n",
       "      <td>DS9</td>\n",
       "      <td>Engineers</td>\n",
       "    </tr>\n",
       "    <tr>\n",
       "      <th>9</th>\n",
       "      <td>torres</td>\n",
       "      <td>VOY</td>\n",
       "      <td>Engineers</td>\n",
       "    </tr>\n",
       "    <tr>\n",
       "      <th>10</th>\n",
       "      <td>tpol</td>\n",
       "      <td>ENT</td>\n",
       "      <td>First Officers</td>\n",
       "    </tr>\n",
       "    <tr>\n",
       "      <th>11</th>\n",
       "      <td>spock</td>\n",
       "      <td>TOS</td>\n",
       "      <td>First Officers</td>\n",
       "    </tr>\n",
       "    <tr>\n",
       "      <th>12</th>\n",
       "      <td>riker</td>\n",
       "      <td>TNG</td>\n",
       "      <td>First Officers</td>\n",
       "    </tr>\n",
       "    <tr>\n",
       "      <th>13</th>\n",
       "      <td>kira</td>\n",
       "      <td>DS9</td>\n",
       "      <td>First Officers</td>\n",
       "    </tr>\n",
       "    <tr>\n",
       "      <th>14</th>\n",
       "      <td>chakotay</td>\n",
       "      <td>VOY</td>\n",
       "      <td>First Officers</td>\n",
       "    </tr>\n",
       "    <tr>\n",
       "      <th>15</th>\n",
       "      <td>trip</td>\n",
       "      <td>ENT</td>\n",
       "      <td>Nicknames</td>\n",
       "    </tr>\n",
       "    <tr>\n",
       "      <th>16</th>\n",
       "      <td>scotty</td>\n",
       "      <td>TOS</td>\n",
       "      <td>Nicknames</td>\n",
       "    </tr>\n",
       "    <tr>\n",
       "      <th>17</th>\n",
       "      <td>beverly</td>\n",
       "      <td>TNG</td>\n",
       "      <td>Nicknames</td>\n",
       "    </tr>\n",
       "    <tr>\n",
       "      <th>18</th>\n",
       "      <td>jadzia</td>\n",
       "      <td>DS9</td>\n",
       "      <td>Nicknames</td>\n",
       "    </tr>\n",
       "    <tr>\n",
       "      <th>19</th>\n",
       "      <td>harry</td>\n",
       "      <td>VOY</td>\n",
       "      <td>Nicknames</td>\n",
       "    </tr>\n",
       "  </tbody>\n",
       "</table>\n",
       "</div>"
      ],
      "text/plain": [
       "   Character Series           Roles\n",
       "0     archer    ENT        Captains\n",
       "1       kirk    TOS        Captains\n",
       "2     picard    TNG        Captains\n",
       "3      sisko    DS9        Captains\n",
       "4    janeway    VOY        Captains\n",
       "5     tucker    ENT       Engineers\n",
       "6      scott    TOS       Engineers\n",
       "7    laforge    TNG       Engineers\n",
       "8     obrien    DS9       Engineers\n",
       "9     torres    VOY       Engineers\n",
       "10      tpol    ENT  First Officers\n",
       "11     spock    TOS  First Officers\n",
       "12     riker    TNG  First Officers\n",
       "13      kira    DS9  First Officers\n",
       "14  chakotay    VOY  First Officers\n",
       "15      trip    ENT       Nicknames\n",
       "16    scotty    TOS       Nicknames\n",
       "17   beverly    TNG       Nicknames\n",
       "18    jadzia    DS9       Nicknames\n",
       "19     harry    VOY       Nicknames"
      ]
     },
     "execution_count": 34,
     "metadata": {},
     "output_type": "execute_result"
    }
   ],
   "source": [
    "characters_df"
   ]
  },
  {
   "cell_type": "code",
   "execution_count": 35,
   "metadata": {},
   "outputs": [],
   "source": [
    "captain_roles = characters_df[characters_df[\"Roles\"]==\"Captains\"]\n",
    "engineers_roles = characters_df[characters_df[\"Roles\"]==\"Engineers\"]\n",
    "first_officers_roles = characters_df[characters_df[\"Roles\"]==\"First Officers\"]\n",
    "nickname_roles = characters_df[characters_df[\"Roles\"]==\"Nicknames\"]"
   ]
  },
  {
   "cell_type": "code",
   "execution_count": 38,
   "metadata": {},
   "outputs": [
    {
     "data": {
      "text/html": [
       "<div>\n",
       "<style scoped>\n",
       "    .dataframe tbody tr th:only-of-type {\n",
       "        vertical-align: middle;\n",
       "    }\n",
       "\n",
       "    .dataframe tbody tr th {\n",
       "        vertical-align: top;\n",
       "    }\n",
       "\n",
       "    .dataframe thead th {\n",
       "        text-align: right;\n",
       "    }\n",
       "</style>\n",
       "<table border=\"1\" class=\"dataframe\">\n",
       "  <thead>\n",
       "    <tr style=\"text-align: right;\">\n",
       "      <th></th>\n",
       "      <th>Character</th>\n",
       "      <th>Series</th>\n",
       "      <th>Roles</th>\n",
       "    </tr>\n",
       "  </thead>\n",
       "  <tbody>\n",
       "    <tr>\n",
       "      <th>5</th>\n",
       "      <td>tucker</td>\n",
       "      <td>ENT</td>\n",
       "      <td>Engineers</td>\n",
       "    </tr>\n",
       "    <tr>\n",
       "      <th>6</th>\n",
       "      <td>scott</td>\n",
       "      <td>TOS</td>\n",
       "      <td>Engineers</td>\n",
       "    </tr>\n",
       "    <tr>\n",
       "      <th>7</th>\n",
       "      <td>laforge</td>\n",
       "      <td>TNG</td>\n",
       "      <td>Engineers</td>\n",
       "    </tr>\n",
       "    <tr>\n",
       "      <th>8</th>\n",
       "      <td>obrien</td>\n",
       "      <td>DS9</td>\n",
       "      <td>Engineers</td>\n",
       "    </tr>\n",
       "    <tr>\n",
       "      <th>9</th>\n",
       "      <td>torres</td>\n",
       "      <td>VOY</td>\n",
       "      <td>Engineers</td>\n",
       "    </tr>\n",
       "  </tbody>\n",
       "</table>\n",
       "</div>"
      ],
      "text/plain": [
       "  Character Series      Roles\n",
       "5    tucker    ENT  Engineers\n",
       "6     scott    TOS  Engineers\n",
       "7   laforge    TNG  Engineers\n",
       "8    obrien    DS9  Engineers\n",
       "9    torres    VOY  Engineers"
      ]
     },
     "execution_count": 38,
     "metadata": {},
     "output_type": "execute_result"
    }
   ],
   "source": [
    "engineers_roles"
   ]
  },
  {
   "cell_type": "code",
   "execution_count": 39,
   "metadata": {},
   "outputs": [
    {
     "name": "stdout",
     "output_type": "stream",
     "text": [
      "[Info:] For Word2Vec model with window size 2\n",
      "--------------------------------------------------\n",
      "Cosine similarity between tucker vs rest of that movie characters\n",
      "0.7095746\n",
      "0.7186027\n",
      "0.68705827\n",
      "==================================================\n",
      "Cosine similarity between scott vs rest of that movie characters\n",
      "0.5876373\n",
      "0.6107189\n",
      "==================================================\n",
      "Cosine similarity between laforge vs rest of that movie characters\n",
      "0.72461724\n",
      "==================================================\n"
     ]
    }
   ],
   "source": [
    "print(\"[Info:] For Word2Vec model with window size 2\")\n",
    "print(\"--------------------------------------------------\")\n",
    "print(f\"Cosine similarity between {engineers_roles['Character'].iloc[0]} vs rest of that movie characters\")\n",
    "print(w2v_model_window2.wv.similarity(engineers_roles[\"Character\"].iloc[0], engineers_roles[\"Character\"].iloc[1]))\n",
    "print(w2v_model_window2.wv.similarity(engineers_roles[\"Character\"].iloc[0], engineers_roles[\"Character\"].iloc[2]))\n",
    "print(w2v_model_window2.wv.similarity(engineers_roles[\"Character\"].iloc[0], engineers_roles[\"Character\"].iloc[3]))\n",
    "print(\"==================================================\")\n",
    "\n",
    "\n",
    "print(f\"Cosine similarity between {engineers_roles['Character'].iloc[1]} vs rest of that movie characters\")\n",
    "print(w2v_model_window2.wv.similarity(engineers_roles[\"Character\"].iloc[1], engineers_roles[\"Character\"].iloc[2]))\n",
    "print(w2v_model_window2.wv.similarity(engineers_roles[\"Character\"].iloc[1], engineers_roles[\"Character\"].iloc[3]))\n",
    "print(\"==================================================\")\n",
    "\n",
    "print(f\"Cosine similarity between {engineers_roles['Character'].iloc[2]} vs rest of that movie characters\")\n",
    "print(w2v_model_window2.wv.similarity(engineers_roles[\"Character\"].iloc[2], engineers_roles[\"Character\"].iloc[3]))\n",
    "print(\"==================================================\")"
   ]
  },
  {
   "cell_type": "code",
   "execution_count": 40,
   "metadata": {},
   "outputs": [
    {
     "name": "stdout",
     "output_type": "stream",
     "text": [
      "[Info:] For Word2Vec model with window size 10\n",
      "--------------------------------------------------\n",
      "Cosine similarity between tucker vs rest of that movie characters\n",
      "0.5461764\n",
      "0.5399655\n",
      "0.40896097\n",
      "==================================================\n",
      "Cosine similarity between scott vs rest of that movie characters\n",
      "0.4760766\n",
      "0.39526504\n",
      "==================================================\n",
      "Cosine similarity between laforge vs rest of that movie characters\n",
      "0.4667212\n",
      "==================================================\n"
     ]
    }
   ],
   "source": [
    "print(\"[Info:] For Word2Vec model with window size 10\")\n",
    "print(\"--------------------------------------------------\")\n",
    "print(f\"Cosine similarity between {engineers_roles['Character'].iloc[0]} vs rest of that movie characters\")\n",
    "print(w2v_model_window10.wv.similarity(engineers_roles[\"Character\"].iloc[0], engineers_roles[\"Character\"].iloc[1]))\n",
    "print(w2v_model_window10.wv.similarity(engineers_roles[\"Character\"].iloc[0], engineers_roles[\"Character\"].iloc[2]))\n",
    "print(w2v_model_window10.wv.similarity(engineers_roles[\"Character\"].iloc[0], engineers_roles[\"Character\"].iloc[3]))\n",
    "print(\"==================================================\")\n",
    "\n",
    "\n",
    "print(f\"Cosine similarity between {engineers_roles['Character'].iloc[1]} vs rest of that movie characters\")\n",
    "print(w2v_model_window10.wv.similarity(engineers_roles[\"Character\"].iloc[1], engineers_roles[\"Character\"].iloc[2]))\n",
    "print(w2v_model_window10.wv.similarity(engineers_roles[\"Character\"].iloc[1], engineers_roles[\"Character\"].iloc[3]))\n",
    "print(\"==================================================\")\n",
    "\n",
    "print(f\"Cosine similarity between {engineers_roles['Character'].iloc[2]} vs rest of that movie characters\")\n",
    "print(w2v_model_window10.wv.similarity(engineers_roles[\"Character\"].iloc[2], engineers_roles[\"Character\"].iloc[3]))\n",
    "print(\"==================================================\")"
   ]
  },
  {
   "cell_type": "code",
   "execution_count": 42,
   "metadata": {},
   "outputs": [
    {
     "data": {
      "text/html": [
       "<div>\n",
       "<style scoped>\n",
       "    .dataframe tbody tr th:only-of-type {\n",
       "        vertical-align: middle;\n",
       "    }\n",
       "\n",
       "    .dataframe tbody tr th {\n",
       "        vertical-align: top;\n",
       "    }\n",
       "\n",
       "    .dataframe thead th {\n",
       "        text-align: right;\n",
       "    }\n",
       "</style>\n",
       "<table border=\"1\" class=\"dataframe\">\n",
       "  <thead>\n",
       "    <tr style=\"text-align: right;\">\n",
       "      <th></th>\n",
       "      <th>Character</th>\n",
       "      <th>Series</th>\n",
       "      <th>Roles</th>\n",
       "    </tr>\n",
       "  </thead>\n",
       "  <tbody>\n",
       "    <tr>\n",
       "      <th>10</th>\n",
       "      <td>tpol</td>\n",
       "      <td>ENT</td>\n",
       "      <td>First Officers</td>\n",
       "    </tr>\n",
       "    <tr>\n",
       "      <th>11</th>\n",
       "      <td>spock</td>\n",
       "      <td>TOS</td>\n",
       "      <td>First Officers</td>\n",
       "    </tr>\n",
       "    <tr>\n",
       "      <th>12</th>\n",
       "      <td>riker</td>\n",
       "      <td>TNG</td>\n",
       "      <td>First Officers</td>\n",
       "    </tr>\n",
       "    <tr>\n",
       "      <th>13</th>\n",
       "      <td>kira</td>\n",
       "      <td>DS9</td>\n",
       "      <td>First Officers</td>\n",
       "    </tr>\n",
       "    <tr>\n",
       "      <th>14</th>\n",
       "      <td>chakotay</td>\n",
       "      <td>VOY</td>\n",
       "      <td>First Officers</td>\n",
       "    </tr>\n",
       "  </tbody>\n",
       "</table>\n",
       "</div>"
      ],
      "text/plain": [
       "   Character Series           Roles\n",
       "10      tpol    ENT  First Officers\n",
       "11     spock    TOS  First Officers\n",
       "12     riker    TNG  First Officers\n",
       "13      kira    DS9  First Officers\n",
       "14  chakotay    VOY  First Officers"
      ]
     },
     "execution_count": 42,
     "metadata": {},
     "output_type": "execute_result"
    }
   ],
   "source": [
    "first_officers_roles"
   ]
  },
  {
   "cell_type": "code",
   "execution_count": 43,
   "metadata": {},
   "outputs": [
    {
     "name": "stdout",
     "output_type": "stream",
     "text": [
      "[Info:] For Word2Vec model with window size 2\n",
      "--------------------------------------------------\n",
      "Cosine similarity between tpol vs rest of that movie characters\n",
      "0.41013595\n",
      "0.50796086\n",
      "0.35607538\n",
      "==================================================\n",
      "Cosine similarity between spock vs rest of that movie characters\n",
      "0.37435502\n",
      "0.19151393\n",
      "==================================================\n",
      "Cosine similarity between riker vs rest of that movie characters\n",
      "0.6203386\n",
      "==================================================\n"
     ]
    }
   ],
   "source": [
    "print(\"[Info:] For Word2Vec model with window size 2\")\n",
    "print(\"--------------------------------------------------\")\n",
    "print(f\"Cosine similarity between {first_officers_roles['Character'].iloc[0]} vs rest of that movie characters\")\n",
    "print(w2v_model_window2.wv.similarity(first_officers_roles[\"Character\"].iloc[0], first_officers_roles[\"Character\"].iloc[1]))\n",
    "print(w2v_model_window2.wv.similarity(first_officers_roles[\"Character\"].iloc[0], first_officers_roles[\"Character\"].iloc[2]))\n",
    "print(w2v_model_window2.wv.similarity(first_officers_roles[\"Character\"].iloc[0], first_officers_roles[\"Character\"].iloc[3]))\n",
    "print(\"==================================================\")\n",
    "\n",
    "\n",
    "print(f\"Cosine similarity between {first_officers_roles['Character'].iloc[1]} vs rest of that movie characters\")\n",
    "print(w2v_model_window2.wv.similarity(first_officers_roles[\"Character\"].iloc[1], first_officers_roles[\"Character\"].iloc[2]))\n",
    "print(w2v_model_window2.wv.similarity(first_officers_roles[\"Character\"].iloc[1], first_officers_roles[\"Character\"].iloc[3]))\n",
    "print(\"==================================================\")\n",
    "\n",
    "print(f\"Cosine similarity between {first_officers_roles['Character'].iloc[2]} vs rest of that movie characters\")\n",
    "print(w2v_model_window2.wv.similarity(first_officers_roles[\"Character\"].iloc[2], first_officers_roles[\"Character\"].iloc[3]))\n",
    "print(\"==================================================\")"
   ]
  },
  {
   "cell_type": "code",
   "execution_count": 44,
   "metadata": {},
   "outputs": [
    {
     "name": "stdout",
     "output_type": "stream",
     "text": [
      "[Info:] For Word2Vec model with window size 10\n",
      "--------------------------------------------------\n",
      "Cosine similarity between tpol vs rest of that movie characters\n",
      "0.31427726\n",
      "0.29237792\n",
      "0.13786831\n",
      "==================================================\n",
      "Cosine similarity between spock vs rest of that movie characters\n",
      "0.0054658335\n",
      "-0.080437295\n",
      "==================================================\n",
      "Cosine similarity between riker vs rest of that movie characters\n",
      "0.38715225\n",
      "==================================================\n"
     ]
    }
   ],
   "source": [
    "print(\"[Info:] For Word2Vec model with window size 10\")\n",
    "print(\"--------------------------------------------------\")\n",
    "print(f\"Cosine similarity between {first_officers_roles['Character'].iloc[0]} vs rest of that movie characters\")\n",
    "print(w2v_model_window10.wv.similarity(first_officers_roles[\"Character\"].iloc[0], first_officers_roles[\"Character\"].iloc[1]))\n",
    "print(w2v_model_window10.wv.similarity(first_officers_roles[\"Character\"].iloc[0], first_officers_roles[\"Character\"].iloc[2]))\n",
    "print(w2v_model_window10.wv.similarity(first_officers_roles[\"Character\"].iloc[0], first_officers_roles[\"Character\"].iloc[3]))\n",
    "print(\"==================================================\")\n",
    "\n",
    "\n",
    "print(f\"Cosine similarity between {first_officers_roles['Character'].iloc[1]} vs rest of that movie characters\")\n",
    "print(w2v_model_window10.wv.similarity(first_officers_roles[\"Character\"].iloc[1], first_officers_roles[\"Character\"].iloc[2]))\n",
    "print(w2v_model_window10.wv.similarity(first_officers_roles[\"Character\"].iloc[1], first_officers_roles[\"Character\"].iloc[3]))\n",
    "print(\"==================================================\")\n",
    "\n",
    "print(f\"Cosine similarity between {first_officers_roles['Character'].iloc[2]} vs rest of that movie characters\")\n",
    "print(w2v_model_window10.wv.similarity(first_officers_roles[\"Character\"].iloc[2], first_officers_roles[\"Character\"].iloc[3]))\n",
    "print(\"==================================================\")"
   ]
  },
  {
   "cell_type": "code",
   "execution_count": 45,
   "metadata": {},
   "outputs": [
    {
     "name": "stdout",
     "output_type": "stream",
     "text": [
      "[Info:] For Word2Vec model with window size 2\n",
      "--------------------------------------------------\n",
      "Cosine similarity between tucker vs tpol\n",
      "0.42979425\n",
      "Cosine similarity between tucker vs spock\n",
      "0.39110786\n",
      "Cosine similarity between tucker vs riker\n",
      "0.7043391\n",
      "Cosine similarity between tucker vs kira\n",
      "0.5137018\n",
      "==================================================\n",
      "Cosine similarity between scott vs spock\n",
      "0.5736383\n",
      "Cosine similarity between scott vs riker\n",
      "0.587744\n",
      "Cosine similarity between scott vs kira\n",
      "0.36684015\n",
      "==================================================\n",
      "Cosine similarity between laforge vs riker\n",
      "0.69371164\n",
      "Cosine similarity between laforge vs kira\n",
      "0.51419044\n",
      "==================================================\n"
     ]
    }
   ],
   "source": [
    "print(\"[Info:] For Word2Vec model with window size 2\")\n",
    "print(\"--------------------------------------------------\")\n",
    "print(f\"Cosine similarity between {engineers_roles['Character'].iloc[0]} vs {first_officers_roles['Character'].iloc[0]}\")\n",
    "print(w2v_model_window2.wv.similarity(engineers_roles[\"Character\"].iloc[0], first_officers_roles[\"Character\"].iloc[0]))\n",
    "print(f\"Cosine similarity between {engineers_roles['Character'].iloc[0]} vs {first_officers_roles['Character'].iloc[1]}\")\n",
    "print(w2v_model_window2.wv.similarity(engineers_roles[\"Character\"].iloc[0], first_officers_roles[\"Character\"].iloc[1]))\n",
    "print(f\"Cosine similarity between {engineers_roles['Character'].iloc[0]} vs {first_officers_roles['Character'].iloc[2]}\")\n",
    "print(w2v_model_window2.wv.similarity(engineers_roles[\"Character\"].iloc[0], first_officers_roles[\"Character\"].iloc[2]))\n",
    "print(f\"Cosine similarity between {engineers_roles['Character'].iloc[0]} vs {first_officers_roles['Character'].iloc[3]}\")\n",
    "print(w2v_model_window2.wv.similarity(engineers_roles[\"Character\"].iloc[0], first_officers_roles[\"Character\"].iloc[3]))\n",
    "print(\"==================================================\")\n",
    "\n",
    "print(f\"Cosine similarity between {engineers_roles['Character'].iloc[1]} vs {first_officers_roles['Character'].iloc[1]}\")\n",
    "print(w2v_model_window2.wv.similarity(engineers_roles[\"Character\"].iloc[1], first_officers_roles[\"Character\"].iloc[1]))\n",
    "print(f\"Cosine similarity between {engineers_roles['Character'].iloc[1]} vs {first_officers_roles['Character'].iloc[2]}\")\n",
    "print(w2v_model_window2.wv.similarity(engineers_roles[\"Character\"].iloc[1], first_officers_roles[\"Character\"].iloc[2]))\n",
    "print(f\"Cosine similarity between {engineers_roles['Character'].iloc[1]} vs {first_officers_roles['Character'].iloc[3]}\")\n",
    "print(w2v_model_window2.wv.similarity(engineers_roles[\"Character\"].iloc[1], first_officers_roles[\"Character\"].iloc[3]))\n",
    "print(\"==================================================\")\n",
    "\n",
    "print(f\"Cosine similarity between {engineers_roles['Character'].iloc[2]} vs {first_officers_roles['Character'].iloc[2]}\")\n",
    "print(w2v_model_window2.wv.similarity(engineers_roles[\"Character\"].iloc[2], first_officers_roles[\"Character\"].iloc[2]))\n",
    "print(f\"Cosine similarity between {engineers_roles['Character'].iloc[2]} vs {first_officers_roles['Character'].iloc[3]}\")\n",
    "print(w2v_model_window2.wv.similarity(engineers_roles[\"Character\"].iloc[2], first_officers_roles[\"Character\"].iloc[3]))\n",
    "print(\"==================================================\")"
   ]
  },
  {
   "cell_type": "code",
   "execution_count": 46,
   "metadata": {},
   "outputs": [
    {
     "name": "stdout",
     "output_type": "stream",
     "text": [
      "[Info:] For Word2Vec model with window size 10\n",
      "--------------------------------------------------\n",
      "Cosine similarity between tucker vs tpol\n",
      "0.5403468\n",
      "Cosine similarity between tucker vs spock\n",
      "0.18120287\n",
      "Cosine similarity between tucker vs riker\n",
      "0.34825748\n",
      "Cosine similarity between tucker vs kira\n",
      "0.11186403\n",
      "==================================================\n",
      "Cosine similarity between scott vs spock\n",
      "0.46575943\n",
      "Cosine similarity between scott vs riker\n",
      "0.25181574\n",
      "Cosine similarity between scott vs kira\n",
      "0.021478366\n",
      "==================================================\n",
      "Cosine similarity between laforge vs riker\n",
      "0.5212987\n",
      "Cosine similarity between laforge vs kira\n",
      "0.24677311\n",
      "==================================================\n"
     ]
    }
   ],
   "source": [
    "print(\"[Info:] For Word2Vec model with window size 10\")\n",
    "print(\"--------------------------------------------------\")\n",
    "print(f\"Cosine similarity between {engineers_roles['Character'].iloc[0]} vs {first_officers_roles['Character'].iloc[0]}\")\n",
    "print(w2v_model_window10.wv.similarity(engineers_roles[\"Character\"].iloc[0], first_officers_roles[\"Character\"].iloc[0]))\n",
    "print(f\"Cosine similarity between {engineers_roles['Character'].iloc[0]} vs {first_officers_roles['Character'].iloc[1]}\")\n",
    "print(w2v_model_window10.wv.similarity(engineers_roles[\"Character\"].iloc[0], first_officers_roles[\"Character\"].iloc[1]))\n",
    "print(f\"Cosine similarity between {engineers_roles['Character'].iloc[0]} vs {first_officers_roles['Character'].iloc[2]}\")\n",
    "print(w2v_model_window10.wv.similarity(engineers_roles[\"Character\"].iloc[0], first_officers_roles[\"Character\"].iloc[2]))\n",
    "print(f\"Cosine similarity between {engineers_roles['Character'].iloc[0]} vs {first_officers_roles['Character'].iloc[3]}\")\n",
    "print(w2v_model_window10.wv.similarity(engineers_roles[\"Character\"].iloc[0], first_officers_roles[\"Character\"].iloc[3]))\n",
    "print(\"==================================================\")\n",
    "\n",
    "print(f\"Cosine similarity between {engineers_roles['Character'].iloc[1]} vs {first_officers_roles['Character'].iloc[1]}\")\n",
    "print(w2v_model_window10.wv.similarity(engineers_roles[\"Character\"].iloc[1], first_officers_roles[\"Character\"].iloc[1]))\n",
    "print(f\"Cosine similarity between {engineers_roles['Character'].iloc[1]} vs {first_officers_roles['Character'].iloc[2]}\")\n",
    "print(w2v_model_window10.wv.similarity(engineers_roles[\"Character\"].iloc[1], first_officers_roles[\"Character\"].iloc[2]))\n",
    "print(f\"Cosine similarity between {engineers_roles['Character'].iloc[1]} vs {first_officers_roles['Character'].iloc[3]}\")\n",
    "print(w2v_model_window10.wv.similarity(engineers_roles[\"Character\"].iloc[1], first_officers_roles[\"Character\"].iloc[3]))\n",
    "print(\"==================================================\")\n",
    "\n",
    "print(f\"Cosine similarity between {engineers_roles['Character'].iloc[2]} vs {first_officers_roles['Character'].iloc[2]}\")\n",
    "print(w2v_model_window10.wv.similarity(engineers_roles[\"Character\"].iloc[2], first_officers_roles[\"Character\"].iloc[2]))\n",
    "print(f\"Cosine similarity between {engineers_roles['Character'].iloc[2]} vs {first_officers_roles['Character'].iloc[3]}\")\n",
    "print(w2v_model_window10.wv.similarity(engineers_roles[\"Character\"].iloc[2], first_officers_roles[\"Character\"].iloc[3]))\n",
    "print(\"==================================================\")"
   ]
  },
  {
   "cell_type": "markdown",
   "metadata": {},
   "source": [
    "Noticing the model with window 10 can differentiates better between the characters of different roles."
   ]
  },
  {
   "cell_type": "markdown",
   "metadata": {},
   "source": []
  }
 ],
 "metadata": {
  "kernelspec": {
   "display_name": "exam_env",
   "language": "python",
   "name": "python3"
  },
  "language_info": {
   "codemirror_mode": {
    "name": "ipython",
    "version": 3
   },
   "file_extension": ".py",
   "mimetype": "text/x-python",
   "name": "python",
   "nbconvert_exporter": "python",
   "pygments_lexer": "ipython3",
   "version": "3.7.16"
  }
 },
 "nbformat": 4,
 "nbformat_minor": 2
}
